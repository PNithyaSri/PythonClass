{
  "cells": [
    {
      "cell_type": "code",
      "execution_count": null,
      "metadata": {
        "id": "hWmVS3NOObju"
      },
      "outputs": [],
      "source": [
        "# Q1:  Define a function which will return Max of three numbers"
      ]
    },
    {
      "cell_type": "code",
      "execution_count": null,
      "metadata": {
        "colab": {
          "base_uri": "https://localhost:8080/"
        },
        "id": "g0AJMgbyPG9u",
        "outputId": "2b2d50f9-9481-45d1-a81a-161b5873d8be"
      },
      "outputs": [
        {
          "data": {
            "text/plain": [
              "5"
            ]
          },
          "execution_count": 3,
          "metadata": {},
          "output_type": "execute_result"
        }
      ],
      "source": [
        "def maxOfThree(a,b,c):\n",
        "  if a > b and a > c:\n",
        "    return a\n",
        "  if b > c and b > a:\n",
        "    return b\n",
        "  if c > a and c > b:\n",
        "    return c\n",
        "maxOfThree(3,4,5)\n"
      ]
    },
    {
      "cell_type": "code",
      "execution_count": null,
      "metadata": {
        "id": "aiVTG5lhP8fV"
      },
      "outputs": [],
      "source": [
        "# Q2: Define a Python Function to reverse a string."
      ]
    },
    {
      "cell_type": "code",
      "execution_count": null,
      "metadata": {
        "colab": {
          "base_uri": "https://localhost:8080/",
          "height": 35
        },
        "id": "CttzHEdsQCE1",
        "outputId": "647b9698-eaa1-45e4-ee02-896f2c26f943"
      },
      "outputs": [
        {
          "data": {
            "application/vnd.google.colaboratory.intrinsic+json": {
              "type": "string"
            },
            "text/plain": [
              "'nohtyp'"
            ]
          },
          "execution_count": 8,
          "metadata": {},
          "output_type": "execute_result"
        }
      ],
      "source": [
        "def stringReverse(s):\n",
        "  s1 = \"\"\n",
        "  i = len(s)-1\n",
        "  while i >= 0:\n",
        "    s1 = s1 + s[i]\n",
        "    i -= 1\n",
        "  return s1\n",
        "stringReverse(\"python\")"
      ]
    },
    {
      "cell_type": "code",
      "execution_count": null,
      "metadata": {
        "id": "WGa_tPIPQk7f"
      },
      "outputs": [],
      "source": [
        "# Q3: Write a Python program to define a function that accepts 2 values and return its sum, subtraction and multiplication."
      ]
    },
    {
      "cell_type": "code",
      "execution_count": null,
      "metadata": {
        "colab": {
          "base_uri": "https://localhost:8080/"
        },
        "id": "8nU8DNxJRGdV",
        "outputId": "ff636c87-0a0a-434c-ba35-bca1c8a0a470"
      },
      "outputs": [
        {
          "data": {
            "text/plain": [
              "(5, 6, 0)"
            ]
          },
          "execution_count": 10,
          "metadata": {},
          "output_type": "execute_result"
        }
      ],
      "source": [
        "def twoValues(a,b):\n",
        "  return a+b, a*b, a//b\n",
        "twoValues(2,3)"
      ]
    },
    {
      "cell_type": "code",
      "execution_count": null,
      "metadata": {
        "id": "_xU4Xlb4RVMw"
      },
      "outputs": [],
      "source": [
        "# Q4: Define a function that accepts roll number and returns whether the student is present or absent."
      ]
    },
    {
      "cell_type": "code",
      "execution_count": null,
      "metadata": {
        "colab": {
          "base_uri": "https://localhost:8080/"
        },
        "id": "jImXO2GmRffA",
        "outputId": "8ab96aa3-a892-4103-e812-0e1e7edd2ade"
      },
      "outputs": [
        {
          "data": {
            "text/plain": [
              "True"
            ]
          },
          "execution_count": 12,
          "metadata": {},
          "output_type": "execute_result"
        }
      ],
      "source": [
        "def rollNumber(x):\n",
        "  lst = [1,2,3,4,5]\n",
        "  if x in lst:\n",
        "    return True\n",
        "  else:\n",
        "    return False\n",
        "rollNumber(3)"
      ]
    },
    {
      "cell_type": "code",
      "execution_count": null,
      "metadata": {
        "id": "Ajc2N3qpR0aG"
      },
      "outputs": [],
      "source": [
        "# Q5: Define a function in python that accepts n values and returns the maximum of n numbers"
      ]
    },
    {
      "cell_type": "code",
      "execution_count": null,
      "metadata": {
        "id": "gL80D3kWR7Lc"
      },
      "outputs": [],
      "source": [
        "def findMax(lst):\n",
        "  max=0\n",
        "  for i in lst:\n",
        "    if i > max:\n",
        "      max = i\n",
        "  return max\n"
      ]
    },
    {
      "cell_type": "code",
      "execution_count": null,
      "metadata": {
        "colab": {
          "base_uri": "https://localhost:8080/"
        },
        "id": "VodqyU1jSSHz",
        "outputId": "f5dab832-4eba-4309-df5a-756d25c21f82"
      },
      "outputs": [
        {
          "data": {
            "text/plain": [
              "45"
            ]
          },
          "execution_count": 19,
          "metadata": {},
          "output_type": "execute_result"
        }
      ],
      "source": [
        "lst = [34,45,22,13,28]\n",
        "findMax(lst)"
      ]
    },
    {
      "cell_type": "code",
      "execution_count": null,
      "metadata": {
        "id": "ZSnDnBpwS-hx"
      },
      "outputs": [],
      "source": [
        "# Q6: Define a function which counts vowels and consonant in a word."
      ]
    },
    {
      "cell_type": "code",
      "execution_count": null,
      "metadata": {
        "colab": {
          "base_uri": "https://localhost:8080/"
        },
        "id": "3YNrwql-TE9T",
        "outputId": "0e49d7b9-fc0e-451f-af30-4270c7205279"
      },
      "outputs": [
        {
          "name": "stdout",
          "output_type": "stream",
          "text": [
            "No.of Vowels in given word 1\n",
            "No.of consonants in given word 5\n"
          ]
        }
      ],
      "source": [
        "def countVowCon(word):\n",
        "  vowels = 'aeiou'\n",
        "  consonants = 'qwrtyplkjhgfsdzxcvbnm'\n",
        "  v=0\n",
        "  c=0\n",
        "  for i in word:\n",
        "    if i in vowels:\n",
        "      v += 1\n",
        "    if i in consonants:\n",
        "      c += 1\n",
        "  print(\"No.of Vowels in given word {}\".format(v))\n",
        "  print(\"No.of consonants in given word {}\".format(c))\n",
        "countVowCon(\"python\")"
      ]
    },
    {
      "cell_type": "code",
      "execution_count": null,
      "metadata": {
        "id": "nw-iCKvLUPAJ"
      },
      "outputs": [],
      "source": [
        "# Q7: Define a function that returns Factorial of a number"
      ]
    },
    {
      "cell_type": "code",
      "execution_count": null,
      "metadata": {
        "colab": {
          "base_uri": "https://localhost:8080/"
        },
        "id": "ZCQxyVOfUXQ1",
        "outputId": "d5c6772b-0791-48c7-ff57-7513a3f3bd7f"
      },
      "outputs": [
        {
          "data": {
            "text/plain": [
              "6"
            ]
          },
          "execution_count": 23,
          "metadata": {},
          "output_type": "execute_result"
        }
      ],
      "source": [
        "def factorial(num):\n",
        "  if num == 0 or num == 1:\n",
        "    return 1\n",
        "  return num*factorial(num-1)\n",
        "factorial(3)"
      ]
    },
    {
      "cell_type": "code",
      "execution_count": null,
      "metadata": {
        "id": "s0PHgs3zU2hX"
      },
      "outputs": [],
      "source": [
        "# Q8: Define a function that accepts radius and returns the area of a circle."
      ]
    },
    {
      "cell_type": "code",
      "execution_count": null,
      "metadata": {
        "colab": {
          "base_uri": "https://localhost:8080/"
        },
        "id": "10d-VA7QU9q4",
        "outputId": "9ec0d3b0-cbf5-4c94-aafb-1693b76c08c3"
      },
      "outputs": [
        {
          "data": {
            "text/plain": [
              "28.26"
            ]
          },
          "execution_count": 25,
          "metadata": {},
          "output_type": "execute_result"
        }
      ],
      "source": [
        "def areaOfCircle(radius):\n",
        "  return 3.14*(radius**2)\n",
        "areaOfCircle(3)"
      ]
    },
    {
      "cell_type": "code",
      "execution_count": null,
      "metadata": {
        "id": "Wg0rM_AuVdvd"
      },
      "outputs": [],
      "source": [
        "# Q9: Define a function that takes a number as a parameter and check the number is prime or not.\n"
      ]
    },
    {
      "cell_type": "code",
      "execution_count": null,
      "metadata": {
        "colab": {
          "base_uri": "https://localhost:8080/"
        },
        "id": "9ujz6SERVkRA",
        "outputId": "da0987d1-8f13-4d93-c98a-ddf68bf4814f"
      },
      "outputs": [
        {
          "data": {
            "text/plain": [
              "True"
            ]
          },
          "execution_count": 27,
          "metadata": {},
          "output_type": "execute_result"
        }
      ],
      "source": [
        "def checkPrime(num):\n",
        "  for i in range(2,num-1):\n",
        "    if num%i==0:\n",
        "      return False\n",
        "    else:\n",
        "      return True\n",
        "checkPrime(7)"
      ]
    },
    {
      "cell_type": "code",
      "execution_count": null,
      "metadata": {
        "id": "FrHOfeCbWDLX"
      },
      "outputs": [],
      "source": [
        "# Q10: Mary wants to run a 25-mile marathon. When she attempts to sign up for the marathon, she notices the sign-up sheet doesn't directly state the marathon's length. Instead, the marathon's length is listed in small, different portions. Help Mary find out how long the marathon actually is. So crete afuntion that ** Return True if the marathon is 25 miles long, otherwise, return False."
      ]
    },
    {
      "cell_type": "code",
      "execution_count": null,
      "metadata": {
        "colab": {
          "base_uri": "https://localhost:8080/"
        },
        "id": "gEH_sTA9XIKB",
        "outputId": "60df232c-b8cb-4d81-e4d0-e78720aaaefc"
      },
      "outputs": [
        {
          "data": {
            "text/plain": [
              "False"
            ]
          },
          "execution_count": 31,
          "metadata": {},
          "output_type": "execute_result"
        }
      ],
      "source": [
        "def marathonDistance(lst):\n",
        "  sum = 0\n",
        "  for i in lst:\n",
        "    sum = sum + i\n",
        "  if sum == 25:\n",
        "    return True\n",
        "  else:\n",
        "    return False\n",
        "marathonDistance([12,3,4,5])"
      ]
    },
    {
      "cell_type": "code",
      "execution_count": null,
      "metadata": {
        "id": "YZvMjdkRXz5_"
      },
      "outputs": [],
      "source": [
        "# Q11: Create a function that takes a number and returns True if the number is automorphic, False if it isn't."
      ]
    },
    {
      "cell_type": "code",
      "execution_count": null,
      "metadata": {
        "colab": {
          "base_uri": "https://localhost:8080/"
        },
        "id": "KhTiIZyLYoQ3",
        "outputId": "c9da51e6-e3a9-4a29-f538-8a1c674841c5"
      },
      "outputs": [
        {
          "data": {
            "text/plain": [
              "False"
            ]
          },
          "execution_count": 34,
          "metadata": {},
          "output_type": "execute_result"
        }
      ],
      "source": [
        "def automorphic(y):\n",
        "  if y == ((y**2)%10):\n",
        "    return True\n",
        "  else:\n",
        "    return False\n",
        "automorphic(7)"
      ]
    },
    {
      "cell_type": "code",
      "execution_count": null,
      "metadata": {
        "colab": {
          "base_uri": "https://localhost:8080/"
        },
        "id": "qX455-FJZ3lE",
        "outputId": "c9e52960-392f-4951-81ca-d6de158850b9"
      },
      "outputs": [
        {
          "data": {
            "text/plain": [
              "True"
            ]
          },
          "execution_count": 35,
          "metadata": {},
          "output_type": "execute_result"
        }
      ],
      "source": [
        "automorphic(5)"
      ]
    },
    {
      "cell_type": "code",
      "execution_count": null,
      "metadata": {
        "id": "sy1ZWVj5Z8kg"
      },
      "outputs": [],
      "source": [
        "# Q12: Create a function, that will take given a, b, c, and do the following: Add a to itself b times and Check if the result is divisible by c.and return true if it is divisible by c or false\n"
      ]
    },
    {
      "cell_type": "code",
      "execution_count": null,
      "metadata": {
        "colab": {
          "base_uri": "https://localhost:8080/"
        },
        "id": "_bJbYqz1a4JY",
        "outputId": "d200a00e-549f-4a7c-807b-e9f735afbe9f"
      },
      "outputs": [
        {
          "data": {
            "text/plain": [
              "True"
            ]
          },
          "execution_count": 37,
          "metadata": {},
          "output_type": "execute_result"
        }
      ],
      "source": [
        "def fun(a,b,c):\n",
        "  result = 0\n",
        "  for i in range(0,b):\n",
        "    result += a\n",
        "  if result%c==0:\n",
        "    return True\n",
        "  else:\n",
        "    return False\n",
        "fun(1,2,2)"
      ]
    },
    {
      "cell_type": "code",
      "execution_count": null,
      "metadata": {
        "id": "EjDFmlvibd55"
      },
      "outputs": [],
      "source": [
        "# Q13: Create a function that changes specific words into emoticons. Given a sentence as a string, replace the words smile, grin, sad and mad with their corresponding emoticons."
      ]
    },
    {
      "cell_type": "code",
      "execution_count": null,
      "metadata": {
        "colab": {
          "base_uri": "https://localhost:8080/",
          "height": 35
        },
        "id": "bBWyL3Jkbyi4",
        "outputId": "8ccbe06d-de28-49ee-ecc8-993a42aa30df"
      },
      "outputs": [
        {
          "data": {
            "application/vnd.google.colaboratory.intrinsic+json": {
              "type": "string"
            },
            "text/plain": [
              "':('"
            ]
          },
          "execution_count": 39,
          "metadata": {},
          "output_type": "execute_result"
        }
      ],
      "source": [
        "def emoticons(s):\n",
        "  e = {\"smile\" :\":D\", \"grin\":\":)\", \"sad\":\":(\", \"mad\":\":P\"}\n",
        "  for i in e:\n",
        "    if s == i:\n",
        "      return e[i]\n",
        "emoticons(\"sad\")"
      ]
    },
    {
      "cell_type": "code",
      "execution_count": null,
      "metadata": {
        "id": "r_eUMAvDcl0u"
      },
      "outputs": [],
      "source": [
        "# Q14: Write a Python program to square and cube every number in a given list of integers using Lambda"
      ]
    },
    {
      "cell_type": "code",
      "execution_count": null,
      "metadata": {
        "colab": {
          "base_uri": "https://localhost:8080/"
        },
        "id": "ThsFGHwzcttg",
        "outputId": "14caea6d-ee3c-4803-e1ac-46e829d8c486"
      },
      "outputs": [
        {
          "data": {
            "text/plain": [
              "([1, 4, 9, 16, 25], [1, 8, 27, 64, 125])"
            ]
          },
          "execution_count": 41,
          "metadata": {},
          "output_type": "execute_result"
        }
      ],
      "source": [
        "def usingLambda(lst):\n",
        "  a = list(map(lambda x:x**2, lst))\n",
        "  b = list(map(lambda x:x**3, lst))\n",
        "  return a,b\n",
        "usingLambda([1,2,3,4,5])"
      ]
    },
    {
      "cell_type": "code",
      "execution_count": null,
      "metadata": {
        "id": "vj_9sloVdgtR"
      },
      "outputs": [],
      "source": [
        "# Q15: Write a Python program to check whether a given string is number or not using Lambda"
      ]
    },
    {
      "cell_type": "code",
      "execution_count": 48,
      "metadata": {
        "colab": {
          "base_uri": "https://localhost:8080/"
        },
        "id": "DX4jjgWmdp7C",
        "outputId": "433bea91-2a25-4cb5-c62c-509f87b7e9b2"
      },
      "outputs": [
        {
          "output_type": "execute_result",
          "data": {
            "text/plain": [
              "int"
            ]
          },
          "metadata": {},
          "execution_count": 48
        }
      ],
      "source": [
        "def checkNum(num):\n",
        "  result = lambda x:type(x)\n",
        "  return result(num)\n",
        "checkNum(156)\n"
      ]
    }
  ],
  "metadata": {
    "colab": {
      "provenance": []
    },
    "kernelspec": {
      "display_name": "Python 3",
      "name": "python3"
    },
    "language_info": {
      "name": "python"
    }
  },
  "nbformat": 4,
  "nbformat_minor": 0
}