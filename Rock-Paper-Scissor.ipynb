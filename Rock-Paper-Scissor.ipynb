{
 "cells": [
  {
   "cell_type": "code",
   "execution_count": 13,
   "id": "57dce131",
   "metadata": {},
   "outputs": [
    {
     "name": "stdout",
     "output_type": "stream",
     "text": [
      "Player1 Enter Rock-Paper-Scissor p\n",
      "Player2 Enter Rock-Paper-Scissor s\n",
      "player2 is the winner\n"
     ]
    }
   ],
   "source": [
    "player1 = input(\"Player1 Enter Rock-Paper-Scissor \")\n",
    "player2 = input(\"Player2 Enter Rock-Paper-Scissor \")\n",
    "print(\"{} is the winner\".format(game(player1,player2)))"
   ]
  },
  {
   "cell_type": "code",
   "execution_count": 12,
   "id": "f750cb8d",
   "metadata": {},
   "outputs": [],
   "source": [
    "def game(m,n):\n",
    "    if m=='r' and n=='s':\n",
    "        return \"player1\"\n",
    "    if m=='s' and n=='p':\n",
    "        return \"player1\"\n",
    "    if m=='p' and n=='r':\n",
    "        return \"player1\"\n",
    "    if m=='s' and n=='r':\n",
    "        return \"player2\"\n",
    "    if m=='p' and n=='s':\n",
    "        return \"player2\"\n",
    "    if m=='r' and n=='p':\n",
    "        return \"player2\""
   ]
  },
  {
   "cell_type": "code",
   "execution_count": null,
   "id": "34aafa5c",
   "metadata": {},
   "outputs": [],
   "source": []
  }
 ],
 "metadata": {
  "kernelspec": {
   "display_name": "Python 3 (ipykernel)",
   "language": "python",
   "name": "python3"
  },
  "language_info": {
   "codemirror_mode": {
    "name": "ipython",
    "version": 3
   },
   "file_extension": ".py",
   "mimetype": "text/x-python",
   "name": "python",
   "nbconvert_exporter": "python",
   "pygments_lexer": "ipython3",
   "version": "3.10.9"
  }
 },
 "nbformat": 4,
 "nbformat_minor": 5
}
