{
  "cells": [
    {
      "cell_type": "code",
      "execution_count": null,
      "metadata": {
        "id": "_AFIWMv--mxj"
      },
      "outputs": [],
      "source": [
        "# Q1: Write a Python program that prints all the numbers from 0 to 6 except 3 and 6"
      ]
    },
    {
      "cell_type": "code",
      "execution_count": null,
      "metadata": {
        "colab": {
          "base_uri": "https://localhost:8080/"
        },
        "id": "z3XnQrFc-xZL",
        "outputId": "7ad6788e-b76b-49cc-c216-316d8b8382b2"
      },
      "outputs": [
        {
          "name": "stdout",
          "output_type": "stream",
          "text": [
            "0\n",
            "1\n",
            "2\n",
            "4\n",
            "5\n"
          ]
        }
      ],
      "source": [
        "for i in range(0,7):\n",
        "  if i != 3 and i != 6:\n",
        "    print(i)\n"
      ]
    },
    {
      "cell_type": "code",
      "execution_count": null,
      "metadata": {
        "id": "2rLXExSJ_BiX"
      },
      "outputs": [],
      "source": [
        "# Q2: Write a program to accept a number from a user and calculate the sum of all numbers from 1 to a given number"
      ]
    },
    {
      "cell_type": "code",
      "execution_count": null,
      "metadata": {
        "colab": {
          "base_uri": "https://localhost:8080/"
        },
        "id": "qBSAffsf_hyR",
        "outputId": "d6fe5488-07c5-4ab5-b49b-1053a660352c"
      },
      "outputs": [
        {
          "name": "stdout",
          "output_type": "stream",
          "text": [
            "Enter a number 4\n",
            "10\n"
          ]
        }
      ],
      "source": [
        "g = 0\n",
        "n = int(input(\"Enter a number \"))\n",
        "for i in range(1,n+1):\n",
        "  g = g + i\n",
        "print(g)"
      ]
    },
    {
      "cell_type": "code",
      "execution_count": null,
      "metadata": {
        "id": "aBH9pSXW_zPQ"
      },
      "outputs": [],
      "source": [
        "# Q3: Write a program to print multiplication table of a given number(input)"
      ]
    },
    {
      "cell_type": "code",
      "execution_count": null,
      "metadata": {
        "colab": {
          "base_uri": "https://localhost:8080/"
        },
        "id": "nt6kcKLgAnee",
        "outputId": "57de1430-8b35-497c-d3a9-30f1d178afab"
      },
      "outputs": [
        {
          "name": "stdout",
          "output_type": "stream",
          "text": [
            "Enter a number 22\n",
            "22 * 1 = 22\n",
            "22 * 2 = 44\n",
            "22 * 3 = 66\n",
            "22 * 4 = 88\n",
            "22 * 5 = 110\n",
            "22 * 6 = 132\n",
            "22 * 7 = 154\n",
            "22 * 8 = 176\n",
            "22 * 9 = 198\n",
            "22 * 10 = 220\n"
          ]
        }
      ],
      "source": [
        "n = int(input(\"Enter a number \"))\n",
        "for i in range(1,11):\n",
        "  print(\"{} * {} = {}\".format(n,i,n*i))"
      ]
    },
    {
      "cell_type": "code",
      "execution_count": null,
      "metadata": {
        "id": "SxqjDsIYBsjv"
      },
      "outputs": [],
      "source": [
        "# Q4: Write a program to count the total number of digits in a number using a while loop."
      ]
    },
    {
      "cell_type": "code",
      "execution_count": null,
      "metadata": {
        "colab": {
          "base_uri": "https://localhost:8080/"
        },
        "id": "saFZkgiUB-Fv",
        "outputId": "fbffe1dc-426e-4801-d2c9-70237294b521"
      },
      "outputs": [
        {
          "name": "stdout",
          "output_type": "stream",
          "text": [
            "Enter a number 82394\n",
            "5\n"
          ]
        }
      ],
      "source": [
        "n = int(input(\"Enter a number \"))\n",
        "i=0\n",
        "while i<len(str(n)):\n",
        "  i+=1\n",
        "print(i)"
      ]
    },
    {
      "cell_type": "code",
      "execution_count": null,
      "metadata": {
        "id": "CEiaomWRC_xa"
      },
      "outputs": [],
      "source": [
        "# Q5: Write a Python program to guess a number between 1 to\n",
        "#Example: User is prompted to enter a guess. If the user guesses wrong then the prompt appears again until the guess is correct, on successful guess, user will get a \"Well guessed!\" message, and the program will exit."
      ]
    },
    {
      "cell_type": "code",
      "execution_count": null,
      "metadata": {
        "colab": {
          "base_uri": "https://localhost:8080/"
        },
        "id": "slf-aD0mEpIr",
        "outputId": "6d81e8e4-177a-4ccb-aa91-99f1a45adc46"
      },
      "outputs": [
        {
          "name": "stdout",
          "output_type": "stream",
          "text": [
            "Enter your guess 3\n",
            "Wrong guess \n",
            "Enter your guess 4\n",
            "Well Guessed\n"
          ]
        }
      ],
      "source": [
        "for i in range(1,6):\n",
        "  guess = int(input(\"Enter your guess \"))\n",
        "  if guess == 2 or guess == 4:\n",
        "    print(\"Well Guessed\")\n",
        "    break\n",
        "  else:\n",
        "    print(\"Wrong guess \")\n",
        "    continue"
      ]
    },
    {
      "cell_type": "code",
      "execution_count": null,
      "metadata": {
        "id": "80ae0MCxErKu"
      },
      "outputs": [],
      "source": [
        "# Q6: Write a Python program which iterates the integers from 1 to 60. For multiples of three print \"Fizz\" instead of the number and for the multiples of five print \"Buzz\". For numbers which are multiples of both three and five print \"FizzBuzz\"."
      ]
    },
    {
      "cell_type": "code",
      "execution_count": null,
      "metadata": {
        "colab": {
          "base_uri": "https://localhost:8080/"
        },
        "id": "3pqVH7VeE-Za",
        "outputId": "4cbc993d-9f82-4af6-aba3-0a151e23432b"
      },
      "outputs": [
        {
          "name": "stdout",
          "output_type": "stream",
          "text": [
            "1\n",
            "2\n",
            "Fizz\n",
            "4\n",
            "Buzz\n",
            "Fizz\n",
            "7\n",
            "8\n",
            "Fizz\n",
            "Buzz\n",
            "11\n",
            "Fizz\n",
            "13\n",
            "14\n",
            "FizzBuzz\n",
            "16\n",
            "17\n",
            "Fizz\n",
            "19\n",
            "Buzz\n",
            "Fizz\n",
            "22\n",
            "23\n",
            "Fizz\n",
            "Buzz\n",
            "26\n",
            "Fizz\n",
            "28\n",
            "29\n",
            "FizzBuzz\n",
            "31\n",
            "32\n",
            "Fizz\n",
            "34\n",
            "Buzz\n",
            "Fizz\n",
            "37\n",
            "38\n",
            "Fizz\n",
            "Buzz\n",
            "41\n",
            "Fizz\n",
            "43\n",
            "44\n",
            "FizzBuzz\n",
            "46\n",
            "47\n",
            "Fizz\n",
            "49\n",
            "Buzz\n",
            "Fizz\n",
            "52\n",
            "53\n",
            "Fizz\n",
            "Buzz\n",
            "56\n",
            "Fizz\n",
            "58\n",
            "59\n"
          ]
        }
      ],
      "source": [
        "for i in range(1,60):\n",
        "  if i%3==0 and i%5==0:\n",
        "    print(\"FizzBuzz\")\n",
        "  elif i%5==0:\n",
        "    print(\"Buzz\")\n",
        "  elif i%3==0:\n",
        "    print(\"Fizz\")\n",
        "  else:\n",
        "    print(i)"
      ]
    },
    {
      "cell_type": "code",
      "execution_count": null,
      "metadata": {
        "id": "IH5nIbjDFjaI"
      },
      "outputs": [],
      "source": [
        "# Q7: Write a Python program that accepts a string and calculate the number of digits and letters"
      ]
    },
    {
      "cell_type": "code",
      "execution_count": null,
      "metadata": {
        "colab": {
          "base_uri": "https://localhost:8080/"
        },
        "id": "Rp-Mwzr_GYCy",
        "outputId": "8fde6aa7-c328-4be1-db41-59c504b6b03a"
      },
      "outputs": [
        {
          "name": "stdout",
          "output_type": "stream",
          "text": [
            "Enter a string kjahf7826\n",
            "letters = 5\n",
            "digits = 4\n"
          ]
        }
      ],
      "source": [
        "string = input(\"Enter a string \")\n",
        "digits = 0\n",
        "letters = 0\n",
        "for i in string:\n",
        "  if i.isalpha() == 1:\n",
        "    letters += 1\n",
        "  if i.isdigit() == 1:\n",
        "    digits += 1\n",
        "print(\"letters = {}\".format(letters))\n",
        "print(\"digits = {}\".format(digits))"
      ]
    },
    {
      "cell_type": "code",
      "execution_count": null,
      "metadata": {
        "id": "TSoE2i1OHipP"
      },
      "outputs": [],
      "source": [
        "# Q8: Write a Python program to check the validity of password input by users."
      ]
    },
    {
      "cell_type": "code",
      "execution_count": 44,
      "metadata": {
        "colab": {
          "base_uri": "https://localhost:8080/"
        },
        "id": "shdREshvIZur",
        "outputId": "65aa485f-528f-479a-bcd9-73df87e8360a"
      },
      "outputs": [
        {
          "output_type": "stream",
          "name": "stdout",
          "text": [
            "Valid Password\n"
          ]
        }
      ],
      "source": [
        "password = \"jbh978KNJ@\"\n",
        "upper = \"ABCDEFGHIJKLMNOPQRSTUVWXYZ\"\n",
        "lower = \"abcdefghijklmnopqrstuvwxyz\"\n",
        "symbol = \"!@#$%^&*()_+{}:<>?-[];',./~\"\n",
        "count = 0\n",
        "if len(password) in range(6,16):\n",
        "  count += 1\n",
        "  for i in password:\n",
        "    if i in lower:\n",
        "      count += 1\n",
        "    if i in upper:\n",
        "      count += 1\n",
        "    if i in symbol:\n",
        "      print(\"Valid Password\")\n"
      ]
    },
    {
      "cell_type": "code",
      "execution_count": null,
      "metadata": {
        "id": "mMA3X96nL8eS"
      },
      "outputs": [],
      "source": [
        "# Q9: Write a program in Python to reverse a word by using while loop\n"
      ]
    },
    {
      "cell_type": "code",
      "execution_count": null,
      "metadata": {
        "colab": {
          "base_uri": "https://localhost:8080/"
        },
        "id": "RzrOdsz8MEif",
        "outputId": "33ac0d93-7c3e-45d6-9bf3-d5acf717f4df"
      },
      "outputs": [
        {
          "name": "stdout",
          "output_type": "stream",
          "text": [
            "Enter a word class\n",
            "ssalc\n"
          ]
        }
      ],
      "source": [
        "word = input(\"Enter a word \")\n",
        "new_word = \"\"\n",
        "l = len(word)-1\n",
        "while l >= 0:\n",
        "  new_word += word[l]\n",
        "  l -= 1\n",
        "print(new_word)"
      ]
    },
    {
      "cell_type": "code",
      "execution_count": null,
      "metadata": {
        "id": "RKME6S91Mwg_"
      },
      "outputs": [],
      "source": [
        "# Q10: Write a program which takes 10 integers as input using loop and print their average value on the screen\n"
      ]
    },
    {
      "cell_type": "code",
      "execution_count": null,
      "metadata": {
        "colab": {
          "base_uri": "https://localhost:8080/"
        },
        "id": "uceh9JnFNVNd",
        "outputId": "a9cd18f4-b00d-4b1c-ddf8-992c842902b9"
      },
      "outputs": [
        {
          "name": "stdout",
          "output_type": "stream",
          "text": [
            "Enter 10 numbers 5\n",
            "Enter 10 numbers 4\n",
            "Enter 10 numbers 3\n",
            "Enter 10 numbers 6\n",
            "Enter 10 numbers 7\n",
            "Enter 10 numbers 2\n",
            "Enter 10 numbers 1\n",
            "Enter 10 numbers 8\n",
            "Enter 10 numbers 9\n",
            "Enter 10 numbers 5\n",
            "The average of 10 numbers is 5.0\n"
          ]
        }
      ],
      "source": [
        "sum = 0\n",
        "for i in range(0,10):\n",
        "  lt = int(input(\"Enter 10 numbers \"))\n",
        "  sum = sum + lt\n",
        "print(\"The average of 10 numbers is {}\".format(sum/10))"
      ]
    },
    {
      "cell_type": "code",
      "execution_count": null,
      "metadata": {
        "id": "Q4waLK2WY83_"
      },
      "outputs": [],
      "source": [
        "# Q11: Write a program which takes integer inputs from user until he/she presses “q” (Ask to press q to quit after every integer input). Print average and product of all numbers."
      ]
    },
    {
      "cell_type": "code",
      "execution_count": null,
      "metadata": {
        "colab": {
          "base_uri": "https://localhost:8080/"
        },
        "id": "R5PAXzfoaTtW",
        "outputId": "0ee48e4b-70ef-4594-c198-2afb2924009a"
      },
      "outputs": [
        {
          "name": "stdout",
          "output_type": "stream",
          "text": [
            "Enter a number 5\n",
            "Enter a number 4\n",
            "Enter a number 3\n",
            "Enter a number 2\n",
            "Enter a number 1\n",
            "Enter a number 6\n",
            "Enter a number 1000\n",
            "Product of above numbers is 720\n",
            "Average of above numbers is 3.5\n"
          ]
        }
      ],
      "source": [
        "product = 1\n",
        "sum = 0\n",
        "total = 0\n",
        "while _ :\n",
        "  n = int(input(\"Enter a number \"))\n",
        "  if n == 1000:\n",
        "    print(\"Product of above numbers is {}\".format(product))\n",
        "    print(\"Average of above numbers is {}\".format(sum/total))\n",
        "    break\n",
        "  else:\n",
        "    product *= n\n",
        "    sum += n\n",
        "    total += 1\n"
      ]
    },
    {
      "cell_type": "code",
      "execution_count": null,
      "metadata": {
        "id": "QAlQ8h7Ogvkx"
      },
      "outputs": [],
      "source": [
        "# Q12: Write a Python program which will remove all digits or any other characters from the string except alphabets"
      ]
    },
    {
      "cell_type": "code",
      "execution_count": 31,
      "metadata": {
        "colab": {
          "base_uri": "https://localhost:8080/"
        },
        "id": "7Qmd0pfXiTk6",
        "outputId": "39e23cc8-d0fa-43ed-d36f-26c43568698d"
      },
      "outputs": [
        {
          "output_type": "stream",
          "name": "stdout",
          "text": [
            "Enter a string hu765@#\n",
            "hu\n"
          ]
        }
      ],
      "source": [
        "string = input(\"Enter a string \")\n",
        "n = \"\"\n",
        "symbol = [\"\",',','.','!','@','#','$','%','^','&','*']\n",
        "for i in range(0,len(string)):\n",
        "  if not(string[i].isdigit() or string[i] in symbol):\n",
        "    n = n + string[i]\n",
        "print(n)"
      ]
    },
    {
      "cell_type": "code",
      "execution_count": null,
      "metadata": {
        "id": "Pk3ob6Yeidq1"
      },
      "outputs": [],
      "source": [
        "# Q13: Write a python program to find the sum of all even numbers from 0 to 10"
      ]
    },
    {
      "cell_type": "code",
      "execution_count": null,
      "metadata": {
        "colab": {
          "base_uri": "https://localhost:8080/"
        },
        "id": "pk1ys2H6ixmn",
        "outputId": "40be3913-f482-4ec9-955e-e816781d6af3"
      },
      "outputs": [
        {
          "name": "stdout",
          "output_type": "stream",
          "text": [
            "30\n"
          ]
        }
      ],
      "source": [
        "sum = 0\n",
        "for i in range(0,11):\n",
        "  if i%2==0:\n",
        "    sum += i\n",
        "print(sum)"
      ]
    },
    {
      "cell_type": "code",
      "execution_count": null,
      "metadata": {
        "id": "HwGTF89LjBm3"
      },
      "outputs": [],
      "source": [
        "# Q14: Write a python program which will accept a digit and print All the numbers before it till 0"
      ]
    },
    {
      "cell_type": "code",
      "execution_count": null,
      "metadata": {
        "colab": {
          "base_uri": "https://localhost:8080/"
        },
        "id": "0BnaYgSujSdo",
        "outputId": "eac19317-3733-4871-8a4b-21ea6ee58a6b"
      },
      "outputs": [
        {
          "name": "stdout",
          "output_type": "stream",
          "text": [
            "Enter a number 5\n",
            "4\n",
            "3\n",
            "2\n",
            "1\n",
            "0\n"
          ]
        }
      ],
      "source": [
        "n = int(input(\"Enter a number \"))\n",
        "while n > 0:\n",
        "  n -= 1\n",
        "  print(n)"
      ]
    },
    {
      "cell_type": "code",
      "execution_count": null,
      "metadata": {
        "id": "xvmSnYc1jpSk"
      },
      "outputs": [],
      "source": [
        "# Q15: Create a dynamic calculator which will run continually till you press “c"
      ]
    },
    {
      "cell_type": "code",
      "execution_count": null,
      "metadata": {
        "colab": {
          "base_uri": "https://localhost:8080/"
        },
        "id": "nOO5nAalj7dP",
        "outputId": "19cf704d-cdf9-4d22-bdd0-91e888f39c1a"
      },
      "outputs": [
        {
          "name": "stdout",
          "output_type": "stream",
          "text": [
            "Enter operator + - * / % ** // +\n",
            "Enter first number 23\n",
            "Enter second number 45\n",
            "23 + 45 = 68\n",
            "Enter operator + - * / % ** // -\n",
            "Enter first number 45\n",
            "Enter second number 78\n",
            "45 - 78 = -33\n",
            "Enter operator + - * / % ** // *\n",
            "Enter first number 15\n",
            "Enter second number 6\n",
            "15 * 6 = 90\n",
            "Enter operator + - * / % ** // /\n",
            "Enter first number 17\n",
            "Enter second number 4\n",
            "17 / 4 = 4.25\n",
            "Enter operator + - * / % ** // %\n",
            "Enter first number 13\n",
            "Enter second number 5\n",
            "13 % 5 = 3\n",
            "Enter operator + - * / % ** // **\n",
            "Enter first number 6\n",
            "Enter second number 3\n",
            "6 ** 3 = 216\n",
            "Enter operator + - * / % ** // //\n",
            "Enter first number 18\n",
            "Enter second number 6\n",
            "18 // 6 = 3\n",
            "Enter operator + - * / % ** // #\n",
            "Invalid input\n",
            "Enter operator + - * / % ** // c\n",
            "End \n"
          ]
        }
      ],
      "source": [
        "while _ :\n",
        "  s = input(\"Enter operator + - * / % ** // \")\n",
        "  if s == '+':\n",
        "    n1 = int(input(\"Enter first number \"))\n",
        "    n2 = int(input(\"Enter second number \"))\n",
        "    print(\"{} + {} = {}\".format(n1,n2,n1+n2))\n",
        "  elif s == '-':\n",
        "    n1 = int(input(\"Enter first number \"))\n",
        "    n2 = int(input(\"Enter second number \"))\n",
        "    print(\"{} - {} = {}\".format(n1,n2,n1-n2))\n",
        "  elif s == '*':\n",
        "    n1 = int(input(\"Enter first number \"))\n",
        "    n2 = int(input(\"Enter second number \"))\n",
        "    print(\"{} * {} = {}\".format(n1,n2,n1*n2))\n",
        "  elif s == '/':\n",
        "    n1 = int(input(\"Enter first number \"))\n",
        "    n2 = int(input(\"Enter second number \"))\n",
        "    print(\"{} / {} = {}\".format(n1,n2,n1/n2))\n",
        "  elif s == '%':\n",
        "    n1 = int(input(\"Enter first number \"))\n",
        "    n2 = int(input(\"Enter second number \"))\n",
        "    print(\"{} % {} = {}\".format(n1,n2,n1%n2))\n",
        "  elif s == '**':\n",
        "    n1 = int(input(\"Enter first number \"))\n",
        "    n2 = int(input(\"Enter second number \"))\n",
        "    print(\"{} ** {} = {}\".format(n1,n2,n1**n2))\n",
        "  elif s == '//':\n",
        "    n1 = int(input(\"Enter first number \"))\n",
        "    n2 = int(input(\"Enter second number \"))\n",
        "    print(\"{} // {} = {}\".format(n1,n2,n1//n2))\n",
        "  elif s == 'c':\n",
        "    print(\"End \")\n",
        "    break\n",
        "  else:\n",
        "    print(\"Invalid input\")"
      ]
    }
  ],
  "metadata": {
    "colab": {
      "provenance": []
    },
    "kernelspec": {
      "display_name": "Python 3",
      "name": "python3"
    },
    "language_info": {
      "name": "python"
    }
  },
  "nbformat": 4,
  "nbformat_minor": 0
}