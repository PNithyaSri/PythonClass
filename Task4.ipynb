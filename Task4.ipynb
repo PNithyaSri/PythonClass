{
  "nbformat": 4,
  "nbformat_minor": 0,
  "metadata": {
    "colab": {
      "provenance": []
    },
    "kernelspec": {
      "name": "python3",
      "display_name": "Python 3"
    },
    "language_info": {
      "name": "python"
    }
  },
  "cells": [
    {
      "cell_type": "code",
      "execution_count": null,
      "metadata": {
        "id": "aMa_roLtzHQ0"
      },
      "outputs": [],
      "source": [
        "# Q1: Write a Python program to loop through all the elements in a list"
      ]
    },
    {
      "cell_type": "code",
      "source": [
        "lst = [1,2,3,4,5]\n",
        "for j in lst:\n",
        "  print(j)"
      ],
      "metadata": {
        "colab": {
          "base_uri": "https://localhost:8080/"
        },
        "id": "TtBLzPfkzYns",
        "outputId": "c8892160-d60a-4a08-a265-e0addd1eb637"
      },
      "execution_count": null,
      "outputs": [
        {
          "output_type": "stream",
          "name": "stdout",
          "text": [
            "1\n",
            "2\n",
            "3\n",
            "4\n",
            "5\n"
          ]
        }
      ]
    },
    {
      "cell_type": "code",
      "source": [
        "# Q2: Write a Python program where you will ask the users to insert elements in a list"
      ],
      "metadata": {
        "id": "pNdwx6t2zhMy"
      },
      "execution_count": null,
      "outputs": []
    },
    {
      "cell_type": "code",
      "source": [
        "lst = []\n",
        "for i in range(0,3):\n",
        "  lst.append(input(\"Enter elements in the list \"))\n",
        "print(lst)"
      ],
      "metadata": {
        "colab": {
          "base_uri": "https://localhost:8080/"
        },
        "id": "G0HcdyKpzxS3",
        "outputId": "76715543-05c6-424c-fee5-0fd6f3e585a8"
      },
      "execution_count": null,
      "outputs": [
        {
          "output_type": "stream",
          "name": "stdout",
          "text": [
            "Enter elements in the list 3\n",
            "Enter elements in the list 4\n",
            "Enter elements in the list 5\n",
            "['3', '4', '5']\n"
          ]
        }
      ]
    },
    {
      "cell_type": "code",
      "source": [
        "# Q3: Write a Python program to remove all the odd index value from a list and only even index elements should remain"
      ],
      "metadata": {
        "id": "Rwjoxzav0CZ0"
      },
      "execution_count": null,
      "outputs": []
    },
    {
      "cell_type": "code",
      "source": [
        "lst = [1,2,34,56,4,5]\n",
        "for i in range(1,(len(lst)//2)+1):\n",
        "  del lst[i]\n",
        "print(lst)\n"
      ],
      "metadata": {
        "id": "0Ak86PEt9Ymx",
        "colab": {
          "base_uri": "https://localhost:8080/"
        },
        "outputId": "47d3594b-e478-40cc-e403-059fc3cc8bbe"
      },
      "execution_count": 8,
      "outputs": [
        {
          "output_type": "stream",
          "name": "stdout",
          "text": [
            "[1, 34, 4]\n"
          ]
        }
      ]
    },
    {
      "cell_type": "code",
      "source": [
        "# Q4: Write a Python program to sum and multiply all the items in a list"
      ],
      "metadata": {
        "id": "Dpz-dX7q1P0F"
      },
      "execution_count": null,
      "outputs": []
    },
    {
      "cell_type": "code",
      "source": [
        "lst = []\n",
        "sum = 0\n",
        "product =1\n",
        "for i in range(0,3):\n",
        "  lst.append(int(input(\"Enter elements in the list \")))\n",
        "  sum += lst[i]\n",
        "  product *= lst[i]\n",
        "print(\"list = {}\".format(lst))\n",
        "print(\"Sum of elements in list {}\".format(sum))\n",
        "print(\"Product of elements in list {}\".format(product))"
      ],
      "metadata": {
        "colab": {
          "base_uri": "https://localhost:8080/"
        },
        "id": "nCRf-C456rSq",
        "outputId": "001b6f68-7b56-49eb-c361-ed6a7f37181f"
      },
      "execution_count": null,
      "outputs": [
        {
          "output_type": "stream",
          "name": "stdout",
          "text": [
            "Enter elements in the list 4\n",
            "Enter elements in the list 5\n",
            "Enter elements in the list 6\n",
            "list = [4, 5, 6]\n",
            "Sum of elements in list 15\n",
            "Product of elements in list 120\n"
          ]
        }
      ]
    },
    {
      "cell_type": "code",
      "source": [
        "# Q5: Write a Python program to get the maximum and minimum numbers from a list"
      ],
      "metadata": {
        "id": "B_Ae3RC370A6"
      },
      "execution_count": null,
      "outputs": []
    },
    {
      "cell_type": "code",
      "source": [
        "lst1 = [34,56,7,23,890,94,32]\n",
        "max = lst1[0]\n",
        "min = lst1[0]\n",
        "for k in lst1:\n",
        "  if k > max:\n",
        "    max = k\n",
        "  if k < min:\n",
        "    min = k\n",
        "print(max, min)"
      ],
      "metadata": {
        "colab": {
          "base_uri": "https://localhost:8080/"
        },
        "id": "JZykcxmAAaB9",
        "outputId": "9cdd3077-9a9d-4d29-eb04-31d197030965"
      },
      "execution_count": null,
      "outputs": [
        {
          "output_type": "stream",
          "name": "stdout",
          "text": [
            "890 7\n"
          ]
        }
      ]
    },
    {
      "cell_type": "code",
      "source": [
        "# Q6: Write a Python program to print a specified list after removing the 0th, 4th and 5th elements."
      ],
      "metadata": {
        "id": "E-BlLM_FA-73"
      },
      "execution_count": null,
      "outputs": []
    },
    {
      "cell_type": "code",
      "source": [
        "colors = [\"white\", \"black\", \"red\", \"orange\", \"green\", \"pink\", \"blue\"]\n",
        "del colors[0]\n",
        "del colors[3]\n",
        "del colors[3]\n",
        "print(colors)"
      ],
      "metadata": {
        "colab": {
          "base_uri": "https://localhost:8080/"
        },
        "id": "qqaErXL9C0Af",
        "outputId": "6599b9c8-6965-4a0d-f591-2016153cea8a"
      },
      "execution_count": null,
      "outputs": [
        {
          "output_type": "stream",
          "name": "stdout",
          "text": [
            "['black', 'red', 'orange', 'blue']\n"
          ]
        }
      ]
    },
    {
      "cell_type": "code",
      "source": [
        "# Q7: Write a Python program to convert a list of characters into a string"
      ],
      "metadata": {
        "id": "QtfACB7cDJmJ"
      },
      "execution_count": null,
      "outputs": []
    },
    {
      "cell_type": "code",
      "source": [
        "lst = ['a','b','c','d','e']\n",
        "string = \"\"\n",
        "for j in lst:\n",
        "  string += j\n",
        "print(string)"
      ],
      "metadata": {
        "colab": {
          "base_uri": "https://localhost:8080/"
        },
        "id": "xUX5sLjsDZNX",
        "outputId": "65532eac-8c66-493f-adb7-6eb5be51c006"
      },
      "execution_count": null,
      "outputs": [
        {
          "output_type": "stream",
          "name": "stdout",
          "text": [
            "abcde\n"
          ]
        }
      ]
    },
    {
      "cell_type": "code",
      "source": [
        "# Q8: Write a Python program to compute average of given lists."
      ],
      "metadata": {
        "id": "ownc_lgEEmaQ"
      },
      "execution_count": null,
      "outputs": []
    },
    {
      "cell_type": "code",
      "source": [
        "lst1 = [2,5,8,4]\n",
        "lst2 = [3,9,6,1]\n",
        "sum = 0\n",
        "for i in lst1:\n",
        "  sum += i\n",
        "for j in lst2:\n",
        "  sum += j\n",
        "print(\"The average of lst1 and lst2 is {}\".format(sum/(len(lst1)+len(lst2))))"
      ],
      "metadata": {
        "colab": {
          "base_uri": "https://localhost:8080/"
        },
        "id": "Pe15EguCU-B4",
        "outputId": "93053deb-fa7e-423d-c43d-897bf26be4eb"
      },
      "execution_count": null,
      "outputs": [
        {
          "output_type": "stream",
          "name": "stdout",
          "text": [
            "The average of lst1 and lst2 is 4.75\n"
          ]
        }
      ]
    },
    {
      "cell_type": "code",
      "source": [
        "# Q9: Write a Python program to count integer in a given mixed list"
      ],
      "metadata": {
        "id": "dLueSJ2iVhn3"
      },
      "execution_count": null,
      "outputs": []
    },
    {
      "cell_type": "code",
      "source": [
        "lst = [23, 4.987, 567, 7+8j, \"glass\", 2345, 6174]\n",
        "count = 0\n",
        "for i in lst:\n",
        "  if type(i) == int:\n",
        "    count += 1\n",
        "print(count)"
      ],
      "metadata": {
        "colab": {
          "base_uri": "https://localhost:8080/"
        },
        "id": "G0eizQrTWqGm",
        "outputId": "591ff431-d676-4613-a53a-1831c43b6854"
      },
      "execution_count": 11,
      "outputs": [
        {
          "output_type": "stream",
          "name": "stdout",
          "text": [
            "4\n"
          ]
        }
      ]
    },
    {
      "cell_type": "code",
      "source": [
        "# Q10: Write a Python program to reverse the list"
      ],
      "metadata": {
        "id": "51on5GVBXY-c"
      },
      "execution_count": null,
      "outputs": []
    },
    {
      "cell_type": "code",
      "source": [
        "lst = [23, 4.987, 567, 7+8j, \"glass\", 2345, 6174]\n",
        "lst.reverse()\n",
        "print(lst)"
      ],
      "metadata": {
        "colab": {
          "base_uri": "https://localhost:8080/"
        },
        "id": "K2NkYIi3YyE5",
        "outputId": "5af7fa16-5b82-4fce-8d58-b1a9528a007e"
      },
      "execution_count": null,
      "outputs": [
        {
          "output_type": "stream",
          "name": "stdout",
          "text": [
            "[6174, 2345, 'glass', (7+8j), 567, 4.987, 23]\n"
          ]
        }
      ]
    },
    {
      "cell_type": "code",
      "source": [
        "# Q11: Write a Python program convert a given string to a tuple"
      ],
      "metadata": {
        "id": "FcMxeQV8Y3uM"
      },
      "execution_count": null,
      "outputs": []
    },
    {
      "cell_type": "code",
      "source": [
        "print(tuple(input(\"Enter a string \")))"
      ],
      "metadata": {
        "colab": {
          "base_uri": "https://localhost:8080/"
        },
        "id": "yC3IwyirY5Ty",
        "outputId": "b8a231fd-9efe-4420-bebb-21c0c3870ea3"
      },
      "execution_count": null,
      "outputs": [
        {
          "output_type": "stream",
          "name": "stdout",
          "text": [
            "Enter a string python1.2\n",
            "('p', 'y', 't', 'h', 'o', 'n', '1', '.', '2')\n"
          ]
        }
      ]
    }
  ]
}