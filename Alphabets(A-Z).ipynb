{
 "cells": [
  {
   "cell_type": "code",
   "execution_count": 1,
   "id": "c8dcc5d4",
   "metadata": {},
   "outputs": [
    {
     "name": "stdout",
     "output_type": "stream",
     "text": [
      "*****\n",
      "*   *\n",
      "* * *\n",
      "*   *\n",
      "*   *\n"
     ]
    }
   ],
   "source": [
    "x = 1\n",
    "while x <= 5:\n",
    "    if x == 1:\n",
    "        print(\"*****\")\n",
    "    elif x == 2 or x == 4 or x == 5:\n",
    "        print(\"*   *\")\n",
    "    else:\n",
    "        print(\"* * *\")\n",
    "    x += 1\n",
    "    "
   ]
  },
  {
   "cell_type": "code",
   "execution_count": 8,
   "id": "88adfd32",
   "metadata": {},
   "outputs": [
    {
     "name": "stdout",
     "output_type": "stream",
     "text": [
      "* * * * \n",
      "*       *\n",
      "* * * *  \n",
      "*       *\n",
      "* * * * \n"
     ]
    }
   ],
   "source": [
    "x = 1\n",
    "while x <= 5:\n",
    "    if x == 1 or x == 5:\n",
    "        print(\"* * * * \")\n",
    "    elif x == 2 or x == 4 :\n",
    "        print(\"*       *\")\n",
    "    else:\n",
    "        print(\"* * * *  \")\n",
    "    x += 1"
   ]
  },
  {
   "cell_type": "code",
   "execution_count": 10,
   "id": "26f572c6",
   "metadata": {},
   "outputs": [
    {
     "name": "stdout",
     "output_type": "stream",
     "text": [
      " * * * *\n",
      "*        \n",
      "*        \n",
      "*        \n",
      " * * * *\n"
     ]
    }
   ],
   "source": [
    "x = 1\n",
    "while x <= 5:\n",
    "    if x == 1 or x == 5:\n",
    "        print(\" * * * *\")\n",
    "    else:\n",
    "        print(\"*        \")\n",
    "    x += 1"
   ]
  },
  {
   "cell_type": "code",
   "execution_count": 11,
   "id": "bb077754",
   "metadata": {},
   "outputs": [
    {
     "name": "stdout",
     "output_type": "stream",
     "text": [
      "* * * * \n",
      "*       *\n",
      "*        *\n",
      "*       *\n",
      "* * * * \n"
     ]
    }
   ],
   "source": [
    "x = 1\n",
    "while x <= 5:\n",
    "    if x == 1 or x == 5:\n",
    "        print(\"* * * * \")\n",
    "    elif x == 2 or x == 4 :\n",
    "        print(\"*       *\")\n",
    "    else:\n",
    "        print(\"*        *\")\n",
    "    x += 1"
   ]
  },
  {
   "cell_type": "code",
   "execution_count": 13,
   "id": "0823aa19",
   "metadata": {},
   "outputs": [
    {
     "name": "stdout",
     "output_type": "stream",
     "text": [
      "* * * * *\n",
      "*        \n",
      "* * * * *\n",
      "*        \n",
      "* * * * *\n"
     ]
    }
   ],
   "source": [
    "x = 1\n",
    "while x <= 5:\n",
    "    if x == 1 or x == 3 or x == 5:\n",
    "        print(\"* * * * *\")\n",
    "    else:\n",
    "        print(\"*        \")\n",
    "    x += 1"
   ]
  },
  {
   "cell_type": "code",
   "execution_count": 14,
   "id": "3d8988ab",
   "metadata": {},
   "outputs": [
    {
     "name": "stdout",
     "output_type": "stream",
     "text": [
      "* * * * *\n",
      "*        \n",
      "* * * * *\n",
      "*        \n",
      "*        \n"
     ]
    }
   ],
   "source": [
    "x = 1\n",
    "while x <= 5:\n",
    "    if x == 1 or x == 3:\n",
    "        print(\"* * * * *\")\n",
    "    else:\n",
    "        print(\"*        \")\n",
    "    x += 1"
   ]
  },
  {
   "cell_type": "code",
   "execution_count": 16,
   "id": "b4651ba0",
   "metadata": {},
   "outputs": [
    {
     "name": "stdout",
     "output_type": "stream",
     "text": [
      "  * * * *\n",
      "*        \n",
      "*   * * *\n",
      "*       *\n",
      "  * * * *\n"
     ]
    }
   ],
   "source": [
    "x = 1\n",
    "while x <= 5:\n",
    "    if x == 1 or x == 5:\n",
    "        print(\"  * * * *\")\n",
    "    elif x == 3:\n",
    "        print(\"*   * * *\")\n",
    "    elif x == 4:\n",
    "        print(\"*       *\")\n",
    "    else:\n",
    "        print(\"*        \")\n",
    "    x += 1"
   ]
  },
  {
   "cell_type": "code",
   "execution_count": 18,
   "id": "b55f50d7",
   "metadata": {},
   "outputs": [
    {
     "name": "stdout",
     "output_type": "stream",
     "text": [
      "*       *\n",
      "*       *\n",
      "* * * * *\n",
      "*       *\n",
      "*       *\n"
     ]
    }
   ],
   "source": [
    "x = 1\n",
    "while x <= 5:\n",
    "    if x == 3:\n",
    "        print(\"* * * * *\")\n",
    "    else:\n",
    "        print(\"*       *\")\n",
    "    x += 1"
   ]
  },
  {
   "cell_type": "code",
   "execution_count": 21,
   "id": "3fcd8d31",
   "metadata": {},
   "outputs": [
    {
     "name": "stdout",
     "output_type": "stream",
     "text": [
      "* * * * *\n",
      "    *    \n",
      "    *    \n",
      "    *    \n",
      "* * * * *\n"
     ]
    }
   ],
   "source": [
    "x = 1\n",
    "while x <= 5:\n",
    "    if x == 1 or x == 5:\n",
    "        print(\"* * * * *\")\n",
    "    else:\n",
    "        print(\"    *    \")\n",
    "    x += 1"
   ]
  },
  {
   "cell_type": "code",
   "execution_count": 23,
   "id": "cca0f046",
   "metadata": {},
   "outputs": [
    {
     "name": "stdout",
     "output_type": "stream",
     "text": [
      "* * * * *\n",
      "    *    \n",
      "    *    \n",
      "*   *    \n",
      "  * *    \n"
     ]
    }
   ],
   "source": [
    "x = 1\n",
    "while x <= 5:\n",
    "    if x == 1:\n",
    "        print(\"* * * * *\")\n",
    "    elif x == 5:\n",
    "        print(\"  * *    \")\n",
    "    elif x == 4:\n",
    "        print(\"*   *    \")\n",
    "    else:\n",
    "        print(\"    *    \")\n",
    "    x += 1"
   ]
  },
  {
   "cell_type": "code",
   "execution_count": 24,
   "id": "62a50332",
   "metadata": {},
   "outputs": [
    {
     "name": "stdout",
     "output_type": "stream",
     "text": [
      "*       *\n",
      "*    *   \n",
      "* *      \n",
      "*    *   \n",
      "*       *\n"
     ]
    }
   ],
   "source": [
    "x = 1\n",
    "while x <= 5:\n",
    "    if x == 1 or x == 5:\n",
    "        print(\"*       *\")\n",
    "    elif x == 2 or x == 4 :\n",
    "        print(\"*    *   \")\n",
    "    else:\n",
    "        print(\"* *      \")\n",
    "    x += 1"
   ]
  },
  {
   "cell_type": "code",
   "execution_count": 25,
   "id": "b006ef8c",
   "metadata": {},
   "outputs": [
    {
     "name": "stdout",
     "output_type": "stream",
     "text": [
      "*        \n",
      "*        \n",
      "*        \n",
      "*        \n",
      "* * * * *\n"
     ]
    }
   ],
   "source": [
    "x = 1\n",
    "while x <= 5:\n",
    "    if x == 5:\n",
    "        print(\"* * * * *\")\n",
    "    else:\n",
    "        print(\"*        \")\n",
    "    x += 1"
   ]
  },
  {
   "cell_type": "code",
   "execution_count": 27,
   "id": "09f6bc6c",
   "metadata": {},
   "outputs": [
    {
     "name": "stdout",
     "output_type": "stream",
     "text": [
      "*       *\n",
      "* *   * *\n",
      "*   *   *\n",
      "*       *\n",
      "*       *\n"
     ]
    }
   ],
   "source": [
    "x = 1\n",
    "while x <= 5:\n",
    "    if x == 2:\n",
    "        print(\"* *   * *\")\n",
    "    elif x == 3:\n",
    "        print(\"*   *   *\")\n",
    "    else:\n",
    "        print(\"*       *\")\n",
    "    x += 1"
   ]
  },
  {
   "cell_type": "code",
   "execution_count": 28,
   "id": "4accaee8",
   "metadata": {},
   "outputs": [
    {
     "name": "stdout",
     "output_type": "stream",
     "text": [
      "*       *\n",
      "* *     *\n",
      "*   *   *\n",
      "*    *  *\n",
      "*       *\n"
     ]
    }
   ],
   "source": [
    "x = 1\n",
    "while x <= 5:\n",
    "    if x == 2:\n",
    "        print(\"* *     *\")\n",
    "    elif x == 3:\n",
    "        print(\"*   *   *\")\n",
    "    elif x == 4:\n",
    "        print(\"*    *  *\")\n",
    "    else:\n",
    "        print(\"*       *\")\n",
    "    x += 1"
   ]
  },
  {
   "cell_type": "code",
   "execution_count": 32,
   "id": "a6ea74d2",
   "metadata": {},
   "outputs": [
    {
     "name": "stdout",
     "output_type": "stream",
     "text": [
      "    *    \n",
      " *     * \n",
      "*       *\n",
      " *     * \n",
      "    *    \n"
     ]
    }
   ],
   "source": [
    "x = 1\n",
    "while x <= 5:\n",
    "    if x == 1 or x == 5:\n",
    "        print(\"    *    \")\n",
    "    elif x == 2 or x == 4:\n",
    "        print(\" *     * \")\n",
    "    else:\n",
    "        print(\"*       *\")\n",
    "    x += 1"
   ]
  },
  {
   "cell_type": "code",
   "execution_count": 36,
   "id": "37cf8294",
   "metadata": {},
   "outputs": [
    {
     "name": "stdout",
     "output_type": "stream",
     "text": [
      "* * * * *\n",
      "*        *\n",
      "* * * * *\n",
      "*        \n",
      "*        \n"
     ]
    }
   ],
   "source": [
    "x = 1\n",
    "while x <= 5:\n",
    "    if x == 1 or x == 3:\n",
    "        print(\"* * * * *\")\n",
    "    elif x == 2:\n",
    "        print(\"*        *\")\n",
    "    else:\n",
    "        print(\"*        \")\n",
    "    x += 1"
   ]
  },
  {
   "cell_type": "code",
   "execution_count": 38,
   "id": "5dad4f28",
   "metadata": {},
   "outputs": [
    {
     "name": "stdout",
     "output_type": "stream",
     "text": [
      "    *    \n",
      " *     * \n",
      "*   *   *\n",
      " *    * * \n",
      "    *    *\n"
     ]
    }
   ],
   "source": [
    "x = 1\n",
    "while x <= 5:\n",
    "    if x == 1:\n",
    "        print(\"    *    \")\n",
    "    elif x == 5:\n",
    "        print(\"    *    *\")\n",
    "    elif x == 2:\n",
    "        print(\" *     * \")\n",
    "    elif x == 4:\n",
    "        print(\" *    * * \")\n",
    "    else:\n",
    "        print(\"*   *   *\")\n",
    "    x += 1"
   ]
  },
  {
   "cell_type": "code",
   "execution_count": 42,
   "id": "30fcc40f",
   "metadata": {},
   "outputs": [
    {
     "name": "stdout",
     "output_type": "stream",
     "text": [
      "* * * *  \n",
      "*     *  \n",
      "* * *    \n",
      "*     *  \n",
      "*       *\n"
     ]
    }
   ],
   "source": [
    "x = 1\n",
    "while x <= 5:\n",
    "    if x == 5:\n",
    "        print(\"*       *\")\n",
    "    elif x == 1:\n",
    "        print(\"* * * *  \")\n",
    "    elif x == 2 or x == 4 :\n",
    "        print(\"*     *  \")\n",
    "    else:\n",
    "        print(\"* * *    \")\n",
    "    x += 1"
   ]
  },
  {
   "cell_type": "code",
   "execution_count": 44,
   "id": "87753002",
   "metadata": {},
   "outputs": [
    {
     "name": "stdout",
     "output_type": "stream",
     "text": [
      "* * * * *\n",
      "*        \n",
      "* * * * *\n",
      "        *\n",
      "* * * * *\n"
     ]
    }
   ],
   "source": [
    "x = 1\n",
    "while x <= 5:\n",
    "    if x == 1 or x == 3 or x == 5:\n",
    "        print(\"* * * * *\")\n",
    "    elif x == 4:\n",
    "        print(\"        *\")\n",
    "    else:\n",
    "        print(\"*        \")\n",
    "    x += 1"
   ]
  },
  {
   "cell_type": "code",
   "execution_count": 46,
   "id": "b69eec85",
   "metadata": {},
   "outputs": [
    {
     "name": "stdout",
     "output_type": "stream",
     "text": [
      "* * * * *\n",
      "    *    \n",
      "    *    \n",
      "    *    \n",
      "    *    \n"
     ]
    }
   ],
   "source": [
    "x = 1\n",
    "while x <= 5:\n",
    "    if x == 1:\n",
    "        print(\"* * * * *\")\n",
    "    else:\n",
    "        print(\"    *    \")\n",
    "    x += 1"
   ]
  },
  {
   "cell_type": "code",
   "execution_count": 48,
   "id": "5a0e9b4a",
   "metadata": {},
   "outputs": [
    {
     "name": "stdout",
     "output_type": "stream",
     "text": [
      "*       *\n",
      "*       *\n",
      "*       *\n",
      "*       *\n",
      "  * * *  \n"
     ]
    }
   ],
   "source": [
    "x = 1\n",
    "while x <= 5:\n",
    "    if x == 5:\n",
    "        print(\"  * * *  \")\n",
    "    else:\n",
    "        print(\"*       *\")\n",
    "    x += 1"
   ]
  },
  {
   "cell_type": "code",
   "execution_count": 49,
   "id": "3f3d2469",
   "metadata": {},
   "outputs": [
    {
     "name": "stdout",
     "output_type": "stream",
     "text": [
      "*       *\n",
      " *     * \n",
      "  *   *  \n",
      "   * *   \n",
      "    *    \n"
     ]
    }
   ],
   "source": [
    "x = 1\n",
    "while x <= 5:\n",
    "    if x == 1:\n",
    "        print(\"*       *\")\n",
    "    elif x == 2:\n",
    "        print(\" *     * \")\n",
    "    elif x == 3:\n",
    "        print(\"  *   *  \")\n",
    "    elif x == 4:\n",
    "        print(\"   * *   \")\n",
    "    else:\n",
    "        print(\"    *    \")\n",
    "    x += 1"
   ]
  },
  {
   "cell_type": "code",
   "execution_count": 54,
   "id": "37d254f1",
   "metadata": {},
   "outputs": [
    {
     "name": "stdout",
     "output_type": "stream",
     "text": [
      "*       *\n",
      "*       *\n",
      "*   *   *\n",
      "* *   * *\n",
      "*       *\n"
     ]
    }
   ],
   "source": [
    "x = 1\n",
    "while x <= 5:\n",
    "    if x == 4:\n",
    "        print(\"* *   * *\")\n",
    "    elif x == 3:\n",
    "        print(\"*   *   *\")\n",
    "    else:\n",
    "        print(\"*       *\")\n",
    "    x += 1"
   ]
  },
  {
   "cell_type": "code",
   "execution_count": 56,
   "id": "a8bec122",
   "metadata": {},
   "outputs": [
    {
     "name": "stdout",
     "output_type": "stream",
     "text": [
      "*       *\n",
      "  *   *  \n",
      "    *    \n",
      "  *   *  \n",
      "*       *\n"
     ]
    }
   ],
   "source": [
    "x = 1\n",
    "while x <= 5:\n",
    "    if x == 2 or x == 4:\n",
    "        print(\"  *   *  \")\n",
    "    elif x == 3:\n",
    "        print(\"    *    \")\n",
    "    else:\n",
    "        print(\"*       *\")\n",
    "    x += 1"
   ]
  },
  {
   "cell_type": "code",
   "execution_count": 57,
   "id": "796f1a6e",
   "metadata": {},
   "outputs": [
    {
     "name": "stdout",
     "output_type": "stream",
     "text": [
      "*       *\n",
      "  *   *  \n",
      "    *    \n",
      "    *    \n",
      "    *    \n"
     ]
    }
   ],
   "source": [
    "x = 1\n",
    "while x <= 5:\n",
    "    if x == 2:\n",
    "        print(\"  *   *  \")\n",
    "    elif x == 1:\n",
    "        print(\"*       *\")\n",
    "    else:\n",
    "        print(\"    *    \")\n",
    "    x += 1"
   ]
  },
  {
   "cell_type": "code",
   "execution_count": 58,
   "id": "26be8ed0",
   "metadata": {},
   "outputs": [
    {
     "name": "stdout",
     "output_type": "stream",
     "text": [
      "* * * * *\n",
      "      *  \n",
      "    *    \n",
      "  *      \n",
      "* * * * *\n"
     ]
    }
   ],
   "source": [
    "x = 1\n",
    "while x <= 5:\n",
    "    if x == 2:\n",
    "        print(\"      *  \")\n",
    "    elif x == 3:\n",
    "        print(\"    *    \")\n",
    "    elif x == 4:\n",
    "        print(\"  *      \")\n",
    "    else:\n",
    "        print(\"* * * * *\")\n",
    "    x += 1"
   ]
  },
  {
   "cell_type": "code",
   "execution_count": null,
   "id": "0fe69e64",
   "metadata": {},
   "outputs": [],
   "source": []
  }
 ],
 "metadata": {
  "kernelspec": {
   "display_name": "Python 3 (ipykernel)",
   "language": "python",
   "name": "python3"
  },
  "language_info": {
   "codemirror_mode": {
    "name": "ipython",
    "version": 3
   },
   "file_extension": ".py",
   "mimetype": "text/x-python",
   "name": "python",
   "nbconvert_exporter": "python",
   "pygments_lexer": "ipython3",
   "version": "3.10.9"
  }
 },
 "nbformat": 4,
 "nbformat_minor": 5
}
