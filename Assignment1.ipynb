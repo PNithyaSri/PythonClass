{
 "cells": [
  {
   "cell_type": "code",
   "execution_count": 1,
   "id": "caeda3e7",
   "metadata": {},
   "outputs": [],
   "source": [
    "# Q1: Write a python program to convert a string to lower case"
   ]
  },
  {
   "cell_type": "code",
   "execution_count": 2,
   "id": "02511734",
   "metadata": {},
   "outputs": [
    {
     "data": {
      "text/plain": [
       "'python'"
      ]
     },
     "execution_count": 2,
     "metadata": {},
     "output_type": "execute_result"
    }
   ],
   "source": [
    "s = \"PYTHON\"\n",
    "s.lower()"
   ]
  },
  {
   "cell_type": "code",
   "execution_count": 3,
   "id": "7de6c1a5",
   "metadata": {},
   "outputs": [],
   "source": [
    "# Q2: Write a python program to convert only odd indexed characters to lower case"
   ]
  },
  {
   "cell_type": "code",
   "execution_count": 8,
   "id": "2d5758ea",
   "metadata": {},
   "outputs": [
    {
     "data": {
      "text/plain": [
       "'PyThOn'"
      ]
     },
     "execution_count": 8,
     "metadata": {},
     "output_type": "execute_result"
    }
   ],
   "source": [
    "s = \"PYTHON\"\n",
    "s[0] + s[1].lower() +s[2] + s[3].lower() + s[4]+ s[5].lower()\n"
   ]
  },
  {
   "cell_type": "code",
   "execution_count": 9,
   "id": "a9ff152f",
   "metadata": {},
   "outputs": [],
   "source": [
    "# Q3: Write a python program to convert only even indexed characters to lower case"
   ]
  },
  {
   "cell_type": "code",
   "execution_count": 11,
   "id": "2f1ac527",
   "metadata": {},
   "outputs": [
    {
     "data": {
      "text/plain": [
       "'pYtHoN'"
      ]
     },
     "execution_count": 11,
     "metadata": {},
     "output_type": "execute_result"
    }
   ],
   "source": [
    "s = \"PYTHON\"\n",
    "s[0].lower() + s[1] + s[2].lower() + s[3] + s[4].lower() + s[5]"
   ]
  },
  {
   "cell_type": "code",
   "execution_count": 12,
   "id": "dd0006cc",
   "metadata": {},
   "outputs": [],
   "source": [
    "# Q4: Write a python program to convert only odd indexed characters to upper case"
   ]
  },
  {
   "cell_type": "code",
   "execution_count": 13,
   "id": "44d6d824",
   "metadata": {},
   "outputs": [
    {
     "data": {
      "text/plain": [
       "'pYtHoN'"
      ]
     },
     "execution_count": 13,
     "metadata": {},
     "output_type": "execute_result"
    }
   ],
   "source": [
    "s = \"python\"\n",
    "s[0] + s[1].upper() +s[2] + s[3].upper() + s[4]+ s[5].upper()"
   ]
  },
  {
   "cell_type": "code",
   "execution_count": 14,
   "id": "1986f6b5",
   "metadata": {},
   "outputs": [],
   "source": [
    "# Q5: Write a python program to convert only even indexed characters to upper case\n"
   ]
  },
  {
   "cell_type": "code",
   "execution_count": 15,
   "id": "9f7fed09",
   "metadata": {},
   "outputs": [
    {
     "data": {
      "text/plain": [
       "'PyThOn'"
      ]
     },
     "execution_count": 15,
     "metadata": {},
     "output_type": "execute_result"
    }
   ],
   "source": [
    "s = \"python\"\n",
    "s[0].upper() + s[1] + s[2].upper() + s[3] + s[4].upper() + s[5]"
   ]
  },
  {
   "cell_type": "code",
   "execution_count": 16,
   "id": "606e2888",
   "metadata": {},
   "outputs": [],
   "source": [
    "# Q6: Write a python program where you have different variable which contains your name ,sex,age, phone no ,fathers name and mothers name.And by using this variable create a variable named bio-data where you will use all this variable\n"
   ]
  },
  {
   "cell_type": "code",
   "execution_count": 17,
   "id": "85d20bc8",
   "metadata": {},
   "outputs": [
    {
     "name": "stdout",
     "output_type": "stream",
     "text": [
      "Enter name: Person1\n",
      "Enter age: 345\n",
      "Enter phoneno: 5765768653\n",
      "Enter father name: Name1\n",
      "Enter mother name: Name2\n",
      "My name is Person1\n",
      "My age is 345\n",
      "My phone_no is 5765768653\n",
      "My father_name is Name1\n",
      "My mother_name is Name2\n"
     ]
    }
   ],
   "source": [
    "name = input(\"Enter name: \")\n",
    "age = int(input(\"Enter age: \"))\n",
    "phone_no = int(input(\"Enter phoneno: \"))\n",
    "father_name = input(\"Enter father name: \")\n",
    "mother_name = input(\"Enter mother name: \")\n",
    "print(\"My name is {}\".format(name))\n",
    "print(\"My age is {}\".format(age))\n",
    "print(\"My phone_no is {}\".format(phone_no))\n",
    "print(\"My father_name is {}\".format(father_name))\n",
    "print(\"My mother_name is {}\".format(mother_name))"
   ]
  },
  {
   "cell_type": "code",
   "execution_count": 18,
   "id": "7c27947c",
   "metadata": {},
   "outputs": [],
   "source": [
    "# Q7: Write a python program to count how many times “@” occurred"
   ]
  },
  {
   "cell_type": "code",
   "execution_count": 19,
   "id": "a5d55de7",
   "metadata": {},
   "outputs": [
    {
     "data": {
      "text/plain": [
       "17"
      ]
     },
     "execution_count": 19,
     "metadata": {},
     "output_type": "execute_result"
    }
   ],
   "source": [
    "g = \"kmk@@@LKMlm@klm@@@lkmlk@klm@klm@@@@@@lkm@@\"\n",
    "g.count(\"@\")"
   ]
  },
  {
   "cell_type": "code",
   "execution_count": 20,
   "id": "118d5502",
   "metadata": {},
   "outputs": [],
   "source": [
    "# Q8: Write a python program to get only names from the string “name1.@gmail.com,name2.@gmail.com,name 3.@gmail.com” Output-name1,name2,name3\n"
   ]
  },
  {
   "cell_type": "code",
   "execution_count": 104,
   "id": "bca73a5b",
   "metadata": {},
   "outputs": [
    {
     "data": {
      "text/plain": [
       "['name1 ', 'name2 ', 'name3 ']"
      ]
     },
     "execution_count": 104,
     "metadata": {},
     "output_type": "execute_result"
    }
   ],
   "source": [
    "string = \"name1.@gmail.com,name2.@gmail.com,name3.@gmail.com\"\n",
    "string.replace(\".@gmail.com\",\" \").split(\",\")\n"
   ]
  },
  {
   "cell_type": "code",
   "execution_count": 100,
   "id": "fea73238",
   "metadata": {},
   "outputs": [],
   "source": [
    "# Q9: Given a string of odd length greater that 9, return a new string made of the middle three characters of a given String"
   ]
  },
  {
   "cell_type": "code",
   "execution_count": 48,
   "id": "8b43cf31",
   "metadata": {},
   "outputs": [
    {
     "data": {
      "text/plain": [
       "'mei'"
      ]
     },
     "execution_count": 48,
     "metadata": {},
     "output_type": "execute_result"
    }
   ],
   "source": [
    "d = \"mynameissan\"\n",
    "d[4:-4]"
   ]
  },
  {
   "cell_type": "code",
   "execution_count": 53,
   "id": "2794abaa",
   "metadata": {},
   "outputs": [
    {
     "data": {
      "text/plain": [
       "'mei'"
      ]
     },
     "execution_count": 53,
     "metadata": {},
     "output_type": "execute_result"
    }
   ],
   "source": [
    "d = \"mynameissan\"\n",
    "d[(len(d)//2 )-1: -((len(d)//2 )-1)]"
   ]
  },
  {
   "cell_type": "code",
   "execution_count": 32,
   "id": "e36c4368",
   "metadata": {},
   "outputs": [],
   "source": [
    "# Q10: Write a python program to insert a 2 string in the middle of 1 string\n"
   ]
  },
  {
   "cell_type": "code",
   "execution_count": 41,
   "id": "cb4914b9",
   "metadata": {},
   "outputs": [
    {
     "data": {
      "text/plain": [
       "'msayn'"
      ]
     },
     "execution_count": 41,
     "metadata": {},
     "output_type": "execute_result"
    }
   ],
   "source": [
    "Str1=\"myn\"\n",
    "Str2=\"sa\"\n",
    "Str1[0]+Str2+Str1[1:3]"
   ]
  },
  {
   "cell_type": "code",
   "execution_count": 33,
   "id": "10e5a459",
   "metadata": {},
   "outputs": [],
   "source": [
    "# Q11: Write a program to remove vowels from the entire alphabets\n"
   ]
  },
  {
   "cell_type": "code",
   "execution_count": 106,
   "id": "e6658e3d",
   "metadata": {},
   "outputs": [
    {
     "data": {
      "text/plain": [
       "'bcdfghjklmnpqrstvwxyz'"
      ]
     },
     "execution_count": 106,
     "metadata": {},
     "output_type": "execute_result"
    }
   ],
   "source": [
    "alphabets = \"abcdefghijklmnopqrstuvwxyz\"\n",
    "alphabets.translate(alphabets.maketrans(\"aeiou\", \".....\")).replace(\".\", \"\")\n"
   ]
  },
  {
   "cell_type": "code",
   "execution_count": null,
   "id": "6bad359a",
   "metadata": {},
   "outputs": [],
   "source": []
  }
 ],
 "metadata": {
  "kernelspec": {
   "display_name": "Python 3 (ipykernel)",
   "language": "python",
   "name": "python3"
  },
  "language_info": {
   "codemirror_mode": {
    "name": "ipython",
    "version": 3
   },
   "file_extension": ".py",
   "mimetype": "text/x-python",
   "name": "python",
   "nbconvert_exporter": "python",
   "pygments_lexer": "ipython3",
   "version": "3.10.9"
  }
 },
 "nbformat": 4,
 "nbformat_minor": 5
}
