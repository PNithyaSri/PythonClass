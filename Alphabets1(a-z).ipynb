{
 "cells": [
  {
   "cell_type": "code",
   "execution_count": 8,
   "id": "d6c681ec",
   "metadata": {},
   "outputs": [
    {
     "name": "stdout",
     "output_type": "stream",
     "text": [
      "  * * *  \n",
      "*       *\n",
      "*       *\n",
      "*       *  *\n",
      "  * * * * *\n"
     ]
    }
   ],
   "source": [
    "y = 1\n",
    "while y <= 5:\n",
    "    if y == 1:\n",
    "        print(\"  * * *  \")\n",
    "    elif y == 5:\n",
    "        print(\"  * * * * *\")\n",
    "    elif y == 4:\n",
    "        print(\"*       *  *\")\n",
    "    else:\n",
    "        print(\"*       *\")\n",
    "    y += 1"
   ]
  },
  {
   "cell_type": "code",
   "execution_count": 10,
   "id": "44d5af31",
   "metadata": {},
   "outputs": [
    {
     "name": "stdout",
     "output_type": "stream",
     "text": [
      "*        \n",
      "*        \n",
      "* * * * \n",
      "*       *\n",
      "* * * * \n"
     ]
    }
   ],
   "source": [
    "x = 1\n",
    "while x <= 5:\n",
    "    if x == 5 or x == 3:\n",
    "        print(\"* * * * \")\n",
    "    elif x == 4 :\n",
    "        print(\"*       *\")\n",
    "    else:\n",
    "        print(\"*        \")\n",
    "    x += 1"
   ]
  },
  {
   "cell_type": "code",
   "execution_count": 11,
   "id": "c443d2bd",
   "metadata": {},
   "outputs": [
    {
     "name": "stdout",
     "output_type": "stream",
     "text": [
      " * * * *\n",
      "*        \n",
      "*        \n",
      "*        \n",
      " * * * *\n"
     ]
    }
   ],
   "source": [
    "x = 1\n",
    "while x <= 5:\n",
    "    if x == 1 or x == 5:\n",
    "        print(\" * * * *\")\n",
    "    else:\n",
    "        print(\"*        \")\n",
    "    x += 1"
   ]
  },
  {
   "cell_type": "code",
   "execution_count": 22,
   "id": "841aea0d",
   "metadata": {},
   "outputs": [
    {
     "name": "stdout",
     "output_type": "stream",
     "text": [
      "        *\n",
      "        *\n",
      "  * * * *\n",
      " *      *\n",
      "  * * * *\n"
     ]
    }
   ],
   "source": [
    "x = 1\n",
    "while x <= 5:\n",
    "    if x == 5 or x == 3:\n",
    "        print(\"  * * * *\")\n",
    "    elif x == 4 :\n",
    "        print(\" *      *\")\n",
    "    else:\n",
    "        print(\"        *\")\n",
    "    x += 1"
   ]
  },
  {
   "cell_type": "code",
   "execution_count": 9,
   "id": "94e34197",
   "metadata": {},
   "outputs": [
    {
     "name": "stdout",
     "output_type": "stream",
     "text": [
      "  * * *  \n",
      "*       *\n",
      " * * * *  \n",
      "*        \n",
      "  * * *  \n"
     ]
    }
   ],
   "source": [
    "x = 1\n",
    "while x <= 5:\n",
    "    if x == 1 or x == 5:\n",
    "        print(\"  * * *  \")\n",
    "    elif x == 2:\n",
    "        print(\"*       *\")\n",
    "    elif x == 3:\n",
    "        print(\" * * * *  \")\n",
    "    else:\n",
    "        print(\"*        \")\n",
    "    x += 1"
   ]
  },
  {
   "cell_type": "code",
   "execution_count": 13,
   "id": "b67dc7d3",
   "metadata": {},
   "outputs": [
    {
     "name": "stdout",
     "output_type": "stream",
     "text": [
      "    * * *\n",
      "    *    \n",
      "* * * * *\n",
      "    *    \n",
      "    *    \n"
     ]
    }
   ],
   "source": [
    "x = 1\n",
    "while x <= 5:\n",
    "    if x == 1:\n",
    "        print(\"    * * *\")\n",
    "    elif x == 3:\n",
    "        print(\"* * * * *\") \n",
    "    else:\n",
    "        print(\"    *    \")\n",
    "    x += 1"
   ]
  },
  {
   "cell_type": "code",
   "execution_count": 16,
   "id": "891389fb",
   "metadata": {},
   "outputs": [
    {
     "name": "stdout",
     "output_type": "stream",
     "text": [
      "  * * *  \n",
      "*       *\n",
      " * * * *  \n",
      "        *\n",
      "* * * *  \n"
     ]
    }
   ],
   "source": [
    "x = 1\n",
    "while x <= 5:\n",
    "    if x == 1:\n",
    "        print(\"  * * *  \")\n",
    "    elif x == 5:\n",
    "        print(\"* * * *  \")\n",
    "    elif x == 2:\n",
    "        print(\"*       *\")\n",
    "    elif x == 3:\n",
    "        print(\" * * * *  \")\n",
    "    else:\n",
    "        print(\"        *\")\n",
    "    x += 1"
   ]
  },
  {
   "cell_type": "code",
   "execution_count": 18,
   "id": "f95bde13",
   "metadata": {},
   "outputs": [
    {
     "name": "stdout",
     "output_type": "stream",
     "text": [
      "*        \n",
      "*        \n",
      "* * * * *\n",
      "*       *\n",
      "*       *\n"
     ]
    }
   ],
   "source": [
    "x = 1\n",
    "while x <= 5:\n",
    "    if x == 4 or x == 5:\n",
    "        print(\"*       *\")\n",
    "    elif x == 3:\n",
    "        print(\"* * * * *\") \n",
    "    else:\n",
    "        print(\"*        \")\n",
    "    x += 1"
   ]
  },
  {
   "cell_type": "code",
   "execution_count": 22,
   "id": "c3646836",
   "metadata": {},
   "outputs": [
    {
     "name": "stdout",
     "output_type": "stream",
     "text": [
      "    *     \n",
      "          \n",
      "    *     \n",
      "    *     \n",
      "    *     \n"
     ]
    }
   ],
   "source": [
    "q = 1\n",
    "while q <= 5:\n",
    "    if q == 2:\n",
    "        print(\"          \")\n",
    "    else:\n",
    "        print(\"    *     \")\n",
    "    q += 1"
   ]
  },
  {
   "cell_type": "code",
   "execution_count": 23,
   "id": "4f9fb732",
   "metadata": {},
   "outputs": [
    {
     "name": "stdout",
     "output_type": "stream",
     "text": [
      "    *     \n",
      "          \n",
      "    *     \n",
      "*   *    \n",
      "  * *    \n"
     ]
    }
   ],
   "source": [
    "q = 1\n",
    "while q <= 5:\n",
    "    if q == 2:\n",
    "        print(\"          \")\n",
    "    elif q == 5:\n",
    "        print(\"  * *    \")\n",
    "    elif q == 4:\n",
    "        print(\"*   *    \")\n",
    "    else:\n",
    "        print(\"    *     \")\n",
    "    q += 1"
   ]
  },
  {
   "cell_type": "code",
   "execution_count": 24,
   "id": "d623a99a",
   "metadata": {},
   "outputs": [
    {
     "name": "stdout",
     "output_type": "stream",
     "text": [
      "*       *\n",
      "*    *   \n",
      "* *      \n",
      "*    *   \n",
      "*       *\n"
     ]
    }
   ],
   "source": [
    "x = 1\n",
    "while x <= 5:\n",
    "    if x == 1 or x == 5:\n",
    "        print(\"*       *\")\n",
    "    elif x == 2 or x == 4 :\n",
    "        print(\"*    *   \")\n",
    "    else:\n",
    "        print(\"* *      \")\n",
    "    x += 1"
   ]
  },
  {
   "cell_type": "code",
   "execution_count": 25,
   "id": "1df8b1be",
   "metadata": {},
   "outputs": [
    {
     "name": "stdout",
     "output_type": "stream",
     "text": [
      "*   \n",
      "*   \n",
      "*   \n",
      "*   \n",
      "*   \n"
     ]
    }
   ],
   "source": [
    "x = 1\n",
    "while x <= 5:\n",
    "    print(\"*   \")\n",
    "    x += 1"
   ]
  },
  {
   "cell_type": "code",
   "execution_count": 33,
   "id": "9dec01b3",
   "metadata": {},
   "outputs": [
    {
     "name": "stdout",
     "output_type": "stream",
     "text": [
      " **      *\n",
      "* * *  * *\n",
      "  *  *   *\n",
      "  *      *\n",
      "  *      *\n"
     ]
    }
   ],
   "source": [
    "x = 1\n",
    "while x <= 5:\n",
    "    if x == 2:\n",
    "        print(\"* * *  * *\")\n",
    "    elif x == 3:\n",
    "        print(\"  *  *   *\")\n",
    "    elif x == 1:\n",
    "        print(\" **      *\")\n",
    "    else:\n",
    "        print(\"  *      *\")\n",
    "    x += 1"
   ]
  },
  {
   "cell_type": "code",
   "execution_count": 42,
   "id": "0e941d26",
   "metadata": {},
   "outputs": [
    {
     "name": "stdout",
     "output_type": "stream",
     "text": [
      "** * * * *\n",
      "**        *\n",
      " *        *\n",
      " *        *\n",
      " *        *\n"
     ]
    }
   ],
   "source": [
    "x = 1\n",
    "while x <= 5:\n",
    "    if x == 1:\n",
    "        print(\"** * * * *\")\n",
    "    elif x == 2:\n",
    "        print(\"**        *\")\n",
    "    else:\n",
    "        print(\" *        *\")\n",
    "    x += 1"
   ]
  },
  {
   "cell_type": "code",
   "execution_count": 43,
   "id": "829c3b48",
   "metadata": {},
   "outputs": [
    {
     "name": "stdout",
     "output_type": "stream",
     "text": [
      "    *    \n",
      " *     * \n",
      "*       *\n",
      " *     * \n",
      "    *    \n"
     ]
    }
   ],
   "source": [
    "x = 1\n",
    "while x <= 5:\n",
    "    if x == 1 or x == 5:\n",
    "        print(\"    *    \")\n",
    "    elif x == 2 or x == 4:\n",
    "        print(\" *     * \")\n",
    "    else:\n",
    "        print(\"*       *\")\n",
    "    x += 1"
   ]
  },
  {
   "cell_type": "code",
   "execution_count": 44,
   "id": "c0a009d1",
   "metadata": {},
   "outputs": [
    {
     "name": "stdout",
     "output_type": "stream",
     "text": [
      "* * * * *\n",
      "*        *\n",
      "* * * * *\n",
      "*        \n",
      "*        \n"
     ]
    }
   ],
   "source": [
    "x = 1\n",
    "while x <= 5:\n",
    "    if x == 1 or x == 3:\n",
    "        print(\"* * * * *\")\n",
    "    elif x == 2:\n",
    "        print(\"*        *\")\n",
    "    else:\n",
    "        print(\"*        \")\n",
    "    x += 1"
   ]
  },
  {
   "cell_type": "code",
   "execution_count": 47,
   "id": "15611e0b",
   "metadata": {},
   "outputs": [
    {
     "name": "stdout",
     "output_type": "stream",
     "text": [
      "  * * * *\n",
      " *       *\n",
      "  * * * *\n",
      "        * *\n",
      "        *\n"
     ]
    }
   ],
   "source": [
    "x = 1\n",
    "while x <= 5:\n",
    "    if x == 1 or x == 3:\n",
    "        print(\"  * * * *\")\n",
    "    elif x == 2:\n",
    "        print(\" *       *\")\n",
    "    elif x == 4:\n",
    "        print(\"        * *\")\n",
    "    else:\n",
    "        print(\"        *\")\n",
    "    x += 1"
   ]
  },
  {
   "cell_type": "code",
   "execution_count": 48,
   "id": "efc4abd2",
   "metadata": {},
   "outputs": [
    {
     "name": "stdout",
     "output_type": "stream",
     "text": [
      "*       *\n",
      "  *   *  \n",
      "    *    \n",
      "  *   *  \n",
      "    *    \n"
     ]
    }
   ],
   "source": [
    "x = 1\n",
    "while x <= 5:\n",
    "    if x == 1:\n",
    "        print(\"*       *\")\n",
    "    elif x == 2:\n",
    "        print(\"  *   *  \")\n",
    "    elif x == 4:\n",
    "        print(\"  *   *  \")\n",
    "    else:\n",
    "        print(\"    *    \")\n",
    "    x += 1"
   ]
  },
  {
   "cell_type": "code",
   "execution_count": 49,
   "id": "3d01b7da",
   "metadata": {},
   "outputs": [
    {
     "name": "stdout",
     "output_type": "stream",
     "text": [
      "* * * * *\n",
      "*        \n",
      "* * * * *\n",
      "        *\n",
      "* * * * *\n"
     ]
    }
   ],
   "source": [
    "x = 1\n",
    "while x <= 5:\n",
    "    if x == 1 or x == 3 or x == 5:\n",
    "        print(\"* * * * *\")\n",
    "    elif x == 4:\n",
    "        print(\"        *\")\n",
    "    else:\n",
    "        print(\"*        \")\n",
    "    x += 1"
   ]
  },
  {
   "cell_type": "code",
   "execution_count": 52,
   "id": "c08eb28c",
   "metadata": {},
   "outputs": [
    {
     "name": "stdout",
     "output_type": "stream",
     "text": [
      "    *    \n",
      "    *    \n",
      "* * * * *\n",
      "    *    *\n",
      "    * *  \n"
     ]
    }
   ],
   "source": [
    "x = 1\n",
    "while x <= 5:\n",
    "    if x == 3:\n",
    "        print(\"* * * * *\")\n",
    "    elif x == 4:\n",
    "        print(\"    *    *\")\n",
    "    elif x == 5:\n",
    "        print(\"    * *  \")\n",
    "    else:\n",
    "        print(\"    *    \")\n",
    "    x += 1"
   ]
  },
  {
   "cell_type": "code",
   "execution_count": 54,
   "id": "76fc548b",
   "metadata": {},
   "outputs": [
    {
     "name": "stdout",
     "output_type": "stream",
     "text": [
      "*     *\n",
      "*     *\n",
      "*     *\n",
      "*     *   *\n",
      "* * * * *\n"
     ]
    }
   ],
   "source": [
    "x = 1\n",
    "while x <= 5:\n",
    "    if x == 4:\n",
    "        print(\"*     *   *\")\n",
    "    elif x == 5:\n",
    "        print(\"* * * * *\")\n",
    "    else:\n",
    "        print(\"*     *\")\n",
    "    x += 1"
   ]
  },
  {
   "cell_type": "code",
   "execution_count": 55,
   "id": "5ed3c7cb",
   "metadata": {},
   "outputs": [
    {
     "name": "stdout",
     "output_type": "stream",
     "text": [
      "*       *\n",
      " *     * \n",
      "  *   *  \n",
      "   * *   \n",
      "    *    \n"
     ]
    }
   ],
   "source": [
    "x = 1\n",
    "while x <= 5:\n",
    "    if x == 1:\n",
    "        print(\"*       *\")\n",
    "    elif x == 2:\n",
    "        print(\" *     * \")\n",
    "    elif x == 3:\n",
    "        print(\"  *   *  \")\n",
    "    elif x == 4:\n",
    "        print(\"   * *   \")\n",
    "    else:\n",
    "        print(\"    *    \")\n",
    "    x += 1"
   ]
  },
  {
   "cell_type": "code",
   "execution_count": 56,
   "id": "2322b2d9",
   "metadata": {},
   "outputs": [
    {
     "name": "stdout",
     "output_type": "stream",
     "text": [
      "*       *\n",
      "*       *\n",
      "*   *   *\n",
      "* *   * *\n",
      "*       *\n"
     ]
    }
   ],
   "source": [
    "x = 1\n",
    "while x <= 5:\n",
    "    if x == 4:\n",
    "        print(\"* *   * *\")\n",
    "    elif x == 3:\n",
    "        print(\"*   *   *\")\n",
    "    else:\n",
    "        print(\"*       *\")\n",
    "    x += 1"
   ]
  },
  {
   "cell_type": "code",
   "execution_count": 60,
   "id": "01d09b56",
   "metadata": {},
   "outputs": [
    {
     "name": "stdout",
     "output_type": "stream",
     "text": [
      " *     * \n",
      "  *   *  \n",
      "    *    \n",
      "  *   *  \n",
      " *     * \n"
     ]
    }
   ],
   "source": [
    "x = 1\n",
    "while x <= 5:\n",
    "    if x == 2 or x == 4:\n",
    "        print(\"  *   *  \")\n",
    "    elif x == 3:\n",
    "        print(\"    *    \")\n",
    "    else:\n",
    "        print(\" *     * \")\n",
    "    x += 1"
   ]
  },
  {
   "cell_type": "code",
   "execution_count": 61,
   "id": "b3b50dfd",
   "metadata": {},
   "outputs": [
    {
     "name": "stdout",
     "output_type": "stream",
     "text": [
      "*       *\n",
      "*       *\n",
      "* * * * *\n",
      "        *\n",
      "* * * * *\n"
     ]
    }
   ],
   "source": [
    "x = 1\n",
    "while x <= 5:\n",
    "    if x == 3 or x == 5:\n",
    "        print(\"* * * * *\")\n",
    "    elif x == 2 or x == 1:\n",
    "        print(\"*       *\")\n",
    "    else:\n",
    "        print(\"        *\")\n",
    "    x += 1"
   ]
  },
  {
   "cell_type": "code",
   "execution_count": 62,
   "id": "41c5524e",
   "metadata": {},
   "outputs": [
    {
     "name": "stdout",
     "output_type": "stream",
     "text": [
      "* * * * *\n",
      "      *  \n",
      "    *    \n",
      "  *      \n",
      "* * * * *\n"
     ]
    }
   ],
   "source": [
    "x = 1\n",
    "while x <= 5:\n",
    "    if x == 2:\n",
    "        print(\"      *  \")\n",
    "    elif x == 3:\n",
    "        print(\"    *    \")\n",
    "    elif x == 4:\n",
    "        print(\"  *      \")\n",
    "    else:\n",
    "        print(\"* * * * *\")\n",
    "    x += 1"
   ]
  },
  {
   "cell_type": "code",
   "execution_count": null,
   "id": "f75f19fb",
   "metadata": {},
   "outputs": [],
   "source": []
  }
 ],
 "metadata": {
  "kernelspec": {
   "display_name": "Python 3 (ipykernel)",
   "language": "python",
   "name": "python3"
  },
  "language_info": {
   "codemirror_mode": {
    "name": "ipython",
    "version": 3
   },
   "file_extension": ".py",
   "mimetype": "text/x-python",
   "name": "python",
   "nbconvert_exporter": "python",
   "pygments_lexer": "ipython3",
   "version": "3.10.9"
  }
 },
 "nbformat": 4,
 "nbformat_minor": 5
}
