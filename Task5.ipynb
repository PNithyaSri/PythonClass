{
  "nbformat": 4,
  "nbformat_minor": 0,
  "metadata": {
    "colab": {
      "provenance": []
    },
    "kernelspec": {
      "name": "python3",
      "display_name": "Python 3"
    },
    "language_info": {
      "name": "python"
    }
  },
  "cells": [
    {
      "cell_type": "code",
      "execution_count": null,
      "metadata": {
        "id": "-fd2rhuXabYy"
      },
      "outputs": [],
      "source": [
        "# Q1: Given a list of numbers, write a python program that returns a new list which Has all duplicate elements removed. And is sorted in an increasing order."
      ]
    },
    {
      "cell_type": "code",
      "source": [
        "lst = [6,3,7,3,2,9,1,6,3,4]\n",
        "lst.sort()\n",
        "print(list(set(lst)))"
      ],
      "metadata": {
        "colab": {
          "base_uri": "https://localhost:8080/"
        },
        "id": "kbyBwGxcawbJ",
        "outputId": "ab4c0bf1-5bdf-4789-aff5-6e31a8168ae3"
      },
      "execution_count": null,
      "outputs": [
        {
          "output_type": "stream",
          "name": "stdout",
          "text": [
            "[1, 2, 3, 4, 6, 7, 9]\n"
          ]
        }
      ]
    },
    {
      "cell_type": "code",
      "source": [
        "# Q2: Write a Python program where you will iterate over both keys and values in dictionaries"
      ],
      "metadata": {
        "id": "9H-NNT5ua6Vp"
      },
      "execution_count": null,
      "outputs": []
    },
    {
      "cell_type": "code",
      "source": [
        "dic = {\"marks\" :23, \"total\" :567, \"average\" :4.56, \"grade\" :'B'}\n",
        "for u,v in dic.items():\n",
        "  print(u,v)\n"
      ],
      "metadata": {
        "colab": {
          "base_uri": "https://localhost:8080/"
        },
        "id": "vDhmlrBXcFKB",
        "outputId": "773ad926-b8f6-49e9-d152-cd4aea41b5ce"
      },
      "execution_count": null,
      "outputs": [
        {
          "output_type": "stream",
          "name": "stdout",
          "text": [
            "marks 23\n",
            "total 567\n",
            "average 4.56\n",
            "grade B\n"
          ]
        }
      ]
    },
    {
      "cell_type": "code",
      "source": [
        "# Q3: Write a Python program that takes a dictionary of student names and returns a list of student names in alphabetical order"
      ],
      "metadata": {
        "id": "kX_zVut3c9zL"
      },
      "execution_count": null,
      "outputs": []
    },
    {
      "cell_type": "code",
      "source": [
        "dic1 = {\"Student 1\": \"Tarun\", \"Student 2\": \"Manoj\", \"Student 3\": \"Gephi\"}\n",
        "lst = []\n",
        "for t in dic1.values():\n",
        "  lst.append(t)\n",
        "lst.sort()\n",
        "print(lst)\n"
      ],
      "metadata": {
        "colab": {
          "base_uri": "https://localhost:8080/"
        },
        "id": "dR9DBrNEde5c",
        "outputId": "74b4ee17-f92d-46f6-e5fc-6e4bf5683479"
      },
      "execution_count": null,
      "outputs": [
        {
          "output_type": "stream",
          "name": "stdout",
          "text": [
            "['Gephi', 'Manoj', 'Tarun']\n"
          ]
        }
      ]
    },
    {
      "cell_type": "code",
      "source": [
        "# Q4: Write a Python which returns a new list of Booleans, from a given number. Iterating through the number one digit at a time, append True if the digit is 1 and False if it is 0."
      ],
      "metadata": {
        "id": "k-IYmwuPeGxy"
      },
      "execution_count": null,
      "outputs": []
    },
    {
      "cell_type": "code",
      "source": [
        "s = input(\"Enter binary values \")\n",
        "lst = []\n",
        "for i in s:\n",
        "  if i == \"1\":\n",
        "    lst.append(\"True\")\n",
        "  else:\n",
        "    lst.append(\"False\")\n",
        "print(lst)"
      ],
      "metadata": {
        "colab": {
          "base_uri": "https://localhost:8080/"
        },
        "id": "8DounjXne_-I",
        "outputId": "e788f3c5-4852-4f7c-efca-5feca04d9cf4"
      },
      "execution_count": null,
      "outputs": [
        {
          "output_type": "stream",
          "name": "stdout",
          "text": [
            "Enter binary values 1010110\n",
            "['True', 'False', 'True', 'False', 'True', 'True', 'False']\n"
          ]
        }
      ]
    },
    {
      "cell_type": "code",
      "source": [
        "# Q5: Write a Python program where you will return a dictionary where the keys will be the character and the values will be the occurrence of the character in the string, and it should for any string inputs (dynamic)\n"
      ],
      "metadata": {
        "id": "c4kqIsqsgJfO"
      },
      "execution_count": null,
      "outputs": []
    },
    {
      "cell_type": "code",
      "source": [
        "s1 = input(\"Enter a string \")\n",
        "dic = {}\n",
        "for i in s1:\n",
        "  for j in s1:\n",
        "    val = s1.count(i)\n",
        "    dic.update({i:val})\n",
        "print(dic)"
      ],
      "metadata": {
        "id": "yfNVGhK_g7fq",
        "colab": {
          "base_uri": "https://localhost:8080/"
        },
        "outputId": "327eaf93-5abc-4dd8-b1c1-e5f02933a7a5"
      },
      "execution_count": 5,
      "outputs": [
        {
          "output_type": "stream",
          "name": "stdout",
          "text": [
            "Enter a string kjabsfglefwe\n",
            "{'k': 1, 'j': 1, 'a': 1, 'b': 1, 's': 1, 'f': 2, 'g': 1, 'l': 1, 'e': 2, 'w': 1}\n"
          ]
        }
      ]
    },
    {
      "cell_type": "code",
      "source": [
        "# Q6: Given a dictionary containing the names and ages of a group of people, return the name of the oldest person\n"
      ],
      "metadata": {
        "id": "mWwTpnWnzuoW"
      },
      "execution_count": 6,
      "outputs": []
    },
    {
      "cell_type": "code",
      "source": [
        "bio = {\"Tmma\": 41, \"Ackes\": 45, \"myna\": 15, \"Benthon\": 29}\n",
        "max = 0\n",
        "for i in bio.values():\n",
        "  if i > max:\n",
        "    max = i\n",
        "for i in bio:\n",
        "  if bio[i] == max:\n",
        "    print(i)\n",
        "    break"
      ],
      "metadata": {
        "colab": {
          "base_uri": "https://localhost:8080/"
        },
        "id": "mguygRh92Mek",
        "outputId": "6abb321c-2e01-4a67-ef9d-eb767264d6a7"
      },
      "execution_count": 19,
      "outputs": [
        {
          "output_type": "stream",
          "name": "stdout",
          "text": [
            "Ackes\n"
          ]
        }
      ]
    },
    {
      "cell_type": "code",
      "source": [
        "# Q8: Create a program that returns a list of items that you can afford in the store with the money you have in your wallet. Create a dictionary with items as key and price as values"
      ],
      "metadata": {
        "id": "Gt2BzSxq28eK"
      },
      "execution_count": 20,
      "outputs": []
    },
    {
      "cell_type": "code",
      "source": [
        "money = int(input(\"Enter money in your wallet \"))\n",
        "dic = {}\n",
        "dic1 = {}\n",
        "sum = 0\n",
        "for i in range(0,6):\n",
        "  k=input(\"Enter key \")\n",
        "  v=int(input(\"Enter value \"))\n",
        "  dic.update({k: v})\n",
        "\n",
        "  if sum < money:\n",
        "    if v < money:\n",
        "      sum += v\n",
        "      dic1.update({k:v})\n",
        "print(dic)\n",
        "print(dic1)"
      ],
      "metadata": {
        "colab": {
          "base_uri": "https://localhost:8080/"
        },
        "id": "vqqqjPjB6QM9",
        "outputId": "1ea96479-20ba-4839-b3e4-b90ee307c5c2"
      },
      "execution_count": 33,
      "outputs": [
        {
          "output_type": "stream",
          "name": "stdout",
          "text": [
            "Enter money in your wallet 50\n",
            "Enter key water bottle\n",
            "Enter value 20\n",
            "Enter key chips\n",
            "Enter value 10\n",
            "Enter key iphone\n",
            "Enter value 49000\n",
            "Enter key towel\n",
            "Enter value 90\n",
            "Enter key pen\n",
            "Enter value 20\n",
            "Enter key cake\n",
            "Enter value 400\n",
            "{'water bottle': 20, 'chips': 10, 'iphone': 49000, 'towel': 90, 'pen': 20, 'cake': 400}\n",
            "{'water bottle': 20, 'chips': 10, 'pen': 20}\n"
          ]
        }
      ]
    },
    {
      "cell_type": "code",
      "source": [
        "# Q9: Write a Python program to create a union of sets\n"
      ],
      "metadata": {
        "id": "5jRTzm9jDfKK"
      },
      "execution_count": 34,
      "outputs": []
    },
    {
      "cell_type": "code",
      "source": [
        "d1 = {1,2,3,4,5}\n",
        "d2 = {4,5,6,7,8}\n",
        "d3=d2.union(d1)\n",
        "print(d3)"
      ],
      "metadata": {
        "colab": {
          "base_uri": "https://localhost:8080/"
        },
        "id": "juZWggRvDnib",
        "outputId": "ea6ae8db-54bb-49de-ce87-0d8c6c38e290"
      },
      "execution_count": 35,
      "outputs": [
        {
          "output_type": "stream",
          "name": "stdout",
          "text": [
            "{1, 2, 3, 4, 5, 6, 7, 8}\n"
          ]
        }
      ]
    },
    {
      "cell_type": "code",
      "source": [
        "# Q10: Write a Python program to check if a given value is present in a set or not"
      ],
      "metadata": {
        "id": "INq1_CzCECVw"
      },
      "execution_count": 36,
      "outputs": []
    },
    {
      "cell_type": "code",
      "source": [
        "s = set()\n",
        "for i in range(0,5):\n",
        "  s.add(input(\"Add value in set \"))\n",
        "print(s)\n",
        "value = set()\n",
        "value.add(input(\"Enter value to check \"))\n",
        "print(value.issubset(s))"
      ],
      "metadata": {
        "colab": {
          "base_uri": "https://localhost:8080/"
        },
        "id": "oqZT2U2sEJ5U",
        "outputId": "32eed41f-3c32-433a-ace2-d2c9262d22cb"
      },
      "execution_count": 56,
      "outputs": [
        {
          "output_type": "stream",
          "name": "stdout",
          "text": [
            "Add value in set 15\n",
            "Add value in set 16\n",
            "Add value in set 17\n",
            "Add value in set 18\n",
            "Add value in set 19\n",
            "{'17', '15', '16', '19', '18'}\n",
            "Enter value to check 17\n",
            "True\n"
          ]
        }
      ]
    },
    {
      "cell_type": "code",
      "source": [
        "# Q11: Write a Python program to find the occurrences of 3 most common words in a given text. And make it as a dictionaries\n"
      ],
      "metadata": {
        "id": "4I6ewKRTItmM"
      },
      "execution_count": 57,
      "outputs": []
    },
    {
      "cell_type": "code",
      "source": [
        "s1 = input(\"Enter a string \")\n",
        "lst = s1.split()\n",
        "dic = {}\n",
        "for i in lst:\n",
        "  for j in lst:\n",
        "    val = lst.count(i)\n",
        "    dic.update({i:val})\n",
        "print(dic)"
      ],
      "metadata": {
        "colab": {
          "base_uri": "https://localhost:8080/"
        },
        "id": "9qdJ6IRhJ3rn",
        "outputId": "9cacb045-7dd7-4797-9dd3-762566ee4a45"
      },
      "execution_count": 58,
      "outputs": [
        {
          "output_type": "stream",
          "name": "stdout",
          "text": [
            "Enter a string cat dog back cat rat dog\n",
            "{'cat': 2, 'dog': 2, 'back': 1, 'rat': 1}\n"
          ]
        }
      ]
    },
    {
      "cell_type": "code",
      "source": [
        "# q12: Write a Python program that accepts name of given subject and mark, and make subjects as keys in dictionaries and marks as values and print the finaldictionary with subjects and marks"
      ],
      "metadata": {
        "id": "Ko1JsH6iKlZK"
      },
      "execution_count": 59,
      "outputs": []
    },
    {
      "cell_type": "code",
      "source": [
        "dic = {}\n",
        "for j in range(0,5):\n",
        "    subject = input(\"Enter the subject\")\n",
        "    marks = int(input(\"Enter the marks\"))\n",
        "    dic.update({subject:marks})\n",
        "print(dic)"
      ],
      "metadata": {
        "colab": {
          "base_uri": "https://localhost:8080/"
        },
        "id": "ON2SfqIxKvbP",
        "outputId": "ba0d664b-b918-4131-b841-a4e0154872da"
      },
      "execution_count": 60,
      "outputs": [
        {
          "output_type": "stream",
          "name": "stdout",
          "text": [
            "Enter the subjectmaths\n",
            "Enter the marks45\n",
            "Enter the subjectscience\n",
            "Enter the marks42\n",
            "Enter the subjectsocial\n",
            "Enter the marks44\n",
            "Enter the subjectenglish\n",
            "Enter the marks43\n",
            "Enter the subjectphysics\n",
            "Enter the marks41\n",
            "{'maths': 45, 'science': 42, 'social': 44, 'english': 43, 'physics': 41}\n"
          ]
        }
      ]
    }
  ]
}