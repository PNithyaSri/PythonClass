{
  "nbformat": 4,
  "nbformat_minor": 0,
  "metadata": {
    "colab": {
      "provenance": []
    },
    "kernelspec": {
      "name": "python3",
      "display_name": "Python 3"
    },
    "language_info": {
      "name": "python"
    }
  },
  "cells": [
    {
      "cell_type": "code",
      "execution_count": 1,
      "metadata": {
        "id": "Cbt9dckt-lrl"
      },
      "outputs": [],
      "source": [
        "def toLower():\n",
        "    s = input(\"Enter a string \")\n",
        "    n = \"\"\n",
        "    for y in s:\n",
        "        if ord(y) in range(65, 91):\n",
        "            diff = ord(y) - 65\n",
        "            y = chr(97+diff)\n",
        "            n += y\n",
        "        else:\n",
        "            n = n + y\n",
        "    print(n)"
      ]
    },
    {
      "cell_type": "code",
      "source": [
        "toLower()"
      ],
      "metadata": {
        "colab": {
          "base_uri": "https://localhost:8080/"
        },
        "id": "Aojdi6HB-v1G",
        "outputId": "69019ec4-cc09-42aa-8e7b-8fbc2b49a91b"
      },
      "execution_count": 2,
      "outputs": [
        {
          "output_type": "stream",
          "name": "stdout",
          "text": [
            "Enter a string #$$jbkj987JGVUVK\n",
            "#$$jbkj987jgvuvk\n"
          ]
        }
      ]
    },
    {
      "cell_type": "code",
      "source": [
        "def toUpper():\n",
        "    s = input(\"Enter a string \")\n",
        "    n = \"\"\n",
        "    for y in s:\n",
        "        if ord(y) in range(97, 123):\n",
        "            diff = ord(y) - 97\n",
        "            y = chr(65+diff)\n",
        "            n += y\n",
        "        else:\n",
        "            n = n + y\n",
        "    print(n)"
      ],
      "metadata": {
        "id": "FP0lSbmW-1iD"
      },
      "execution_count": 3,
      "outputs": []
    },
    {
      "cell_type": "code",
      "source": [
        "toUpper()"
      ],
      "metadata": {
        "colab": {
          "base_uri": "https://localhost:8080/"
        },
        "id": "aKn7SOyc_OYP",
        "outputId": "33c0a0e0-e440-4cc5-cab6-33e056ac138b"
      },
      "execution_count": 4,
      "outputs": [
        {
          "output_type": "stream",
          "name": "stdout",
          "text": [
            "Enter a string kj;ih8979$##$LHB\n",
            "KJ;IH8979$##$LHB\n"
          ]
        }
      ]
    },
    {
      "cell_type": "code",
      "source": [
        "def toCapitalize():\n",
        "    s = input(\"Enter a string \")\n",
        "    n = \"\"\n",
        "    if ord(s[0]) in range(97, 123):\n",
        "            diff = ord(s[0]) - 97\n",
        "            n += chr(65+diff)\n",
        "    else:\n",
        "            n += s[0]\n",
        "    for i in range(1,len(s)):\n",
        "        if ord(s[i]) in range(65, 91):\n",
        "            diff = ord(s[i]) - 65\n",
        "            n += chr(97+diff)\n",
        "\n",
        "        else:\n",
        "            n = n + s[i]\n",
        "    print(n)\n"
      ],
      "metadata": {
        "id": "kkIGsEf0_R6Y"
      },
      "execution_count": 5,
      "outputs": []
    },
    {
      "cell_type": "code",
      "source": [
        "toCapitalize()"
      ],
      "metadata": {
        "colab": {
          "base_uri": "https://localhost:8080/"
        },
        "id": "kpmn9ecU_cW4",
        "outputId": "bd86446f-0f5d-40b0-d727-d09becbf75c3"
      },
      "execution_count": 6,
      "outputs": [
        {
          "output_type": "stream",
          "name": "stdout",
          "text": [
            "Enter a string nkljf987!@##$\n",
            "Nkljf987!@##$\n"
          ]
        }
      ]
    },
    {
      "cell_type": "code",
      "source": [
        "def zeroDim():\n",
        "  n = int(input(\"Enter a number \"))\n",
        "  return n\n",
        "zeroDim()"
      ],
      "metadata": {
        "colab": {
          "base_uri": "https://localhost:8080/"
        },
        "id": "zj74r22-_dSv",
        "outputId": "02197040-e706-44b8-cd85-408bf6f6915d"
      },
      "execution_count": 7,
      "outputs": [
        {
          "name": "stdout",
          "output_type": "stream",
          "text": [
            "Enter a number 786865\n"
          ]
        },
        {
          "output_type": "execute_result",
          "data": {
            "text/plain": [
              "786865"
            ]
          },
          "metadata": {},
          "execution_count": 7
        }
      ]
    },
    {
      "cell_type": "code",
      "source": [
        "def oneDim():\n",
        "  lst = []\n",
        "  for i in range(0,5):\n",
        "    lst.append(int(input(\"Enter number \")))\n",
        "  return lst\n",
        "oneDim()"
      ],
      "metadata": {
        "colab": {
          "base_uri": "https://localhost:8080/"
        },
        "id": "G_tpGo4jBosj",
        "outputId": "498fa64a-7191-47d7-b904-d84a014aa4f5"
      },
      "execution_count": 8,
      "outputs": [
        {
          "name": "stdout",
          "output_type": "stream",
          "text": [
            "Enter number 76\n",
            "Enter number 987\n",
            "Enter number 54\n",
            "Enter number 23\n",
            "Enter number 178\n"
          ]
        },
        {
          "output_type": "execute_result",
          "data": {
            "text/plain": [
              "[76, 987, 54, 23, 178]"
            ]
          },
          "metadata": {},
          "execution_count": 8
        }
      ]
    },
    {
      "cell_type": "code",
      "source": [
        "def twoDim():\n",
        "  for i in range(0,5):\n",
        "    for j in range(0,5):\n",
        "      if j<i:\n",
        "        print([j,i,j])\n",
        "twoDim()"
      ],
      "metadata": {
        "colab": {
          "base_uri": "https://localhost:8080/"
        },
        "id": "T7oS6BkcCFH7",
        "outputId": "1ddfe167-973e-4b60-d89c-93f61bf0736b"
      },
      "execution_count": 9,
      "outputs": [
        {
          "output_type": "stream",
          "name": "stdout",
          "text": [
            "[0, 1, 0]\n",
            "[0, 2, 0]\n",
            "[1, 2, 1]\n",
            "[0, 3, 0]\n",
            "[1, 3, 1]\n",
            "[2, 3, 2]\n",
            "[0, 4, 0]\n",
            "[1, 4, 1]\n",
            "[2, 4, 2]\n",
            "[3, 4, 3]\n"
          ]
        }
      ]
    },
    {
      "cell_type": "code",
      "source": [],
      "metadata": {
        "id": "o_qCsLZmC4Jm"
      },
      "execution_count": null,
      "outputs": []
    }
  ]
}