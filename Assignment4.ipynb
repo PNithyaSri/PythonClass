{
  "nbformat": 4,
  "nbformat_minor": 0,
  "metadata": {
    "colab": {
      "provenance": []
    },
    "kernelspec": {
      "name": "python3",
      "display_name": "Python 3"
    },
    "language_info": {
      "name": "python"
    }
  },
  "cells": [
    {
      "cell_type": "code",
      "execution_count": null,
      "metadata": {
        "id": "Pmla876uW6ji"
      },
      "outputs": [],
      "source": [
        "# Q1: Create a python program to print the below pattern using for loop as or while loop\n",
        "\n",
        "#a)\n",
        "\n",
        "#1\n",
        "#2 2\n",
        "#3 3 3\n",
        "#4 4 4 4\n",
        "#5 5 5 5 5\"\"\"\n"
      ]
    },
    {
      "cell_type": "code",
      "source": [
        "for i in range(1,6):\n",
        "  for j in range(1,6):\n",
        "    if j <= i:\n",
        "      print(i, end = \" \")\n",
        "  print(\"\\n\")\n"
      ],
      "metadata": {
        "colab": {
          "base_uri": "https://localhost:8080/"
        },
        "id": "sfm6H7D-Xt5n",
        "outputId": "f979bc65-3b63-4b46-a753-ba0d45a91699"
      },
      "execution_count": null,
      "outputs": [
        {
          "output_type": "stream",
          "name": "stdout",
          "text": [
            "1 \n",
            "\n",
            "2 2 \n",
            "\n",
            "3 3 3 \n",
            "\n",
            "4 4 4 4 \n",
            "\n",
            "5 5 5 5 5 \n",
            "\n"
          ]
        }
      ]
    },
    {
      "cell_type": "code",
      "source": [
        "#b)\n",
        "\n",
        "#1\n",
        "#1 2\n",
        "#1 2 3\n",
        "#1 2 3 4\n",
        "#1 2 3 4 5\n"
      ],
      "metadata": {
        "id": "3YflvRN2Y-kE"
      },
      "execution_count": null,
      "outputs": []
    },
    {
      "cell_type": "code",
      "source": [
        "for i in range(1,6):\n",
        "  for j in range(1,6):\n",
        "    if j <= i:\n",
        "      print(j, end = \" \")\n",
        "  print(\"\\n\")"
      ],
      "metadata": {
        "colab": {
          "base_uri": "https://localhost:8080/"
        },
        "id": "GgMBmizPamjr",
        "outputId": "de085efe-b8bd-4dc5-9a57-da2c9977b94e"
      },
      "execution_count": null,
      "outputs": [
        {
          "output_type": "stream",
          "name": "stdout",
          "text": [
            "1 \n",
            "\n",
            "1 2 \n",
            "\n",
            "1 2 3 \n",
            "\n",
            "1 2 3 4 \n",
            "\n",
            "1 2 3 4 5 \n",
            "\n"
          ]
        }
      ]
    },
    {
      "cell_type": "code",
      "source": [
        "#c)\n",
        "\n",
        "#1 1 1 1 1\n",
        "#2 2 2 2\n",
        "#3 3 3\n",
        "#4 4\n",
        "#5\n"
      ],
      "metadata": {
        "id": "TYPk4bMzarGO"
      },
      "execution_count": null,
      "outputs": []
    },
    {
      "cell_type": "code",
      "source": [
        "for i in range(1,6):\n",
        "  for j in range(1,6):\n",
        "    if j >= i:\n",
        "      print(i, end = \" \")\n",
        "  print(\"\\n\")"
      ],
      "metadata": {
        "colab": {
          "base_uri": "https://localhost:8080/"
        },
        "id": "G5bbX2iXbAtj",
        "outputId": "2bd78fdd-6b11-4b60-def0-3ab8abb0974b"
      },
      "execution_count": null,
      "outputs": [
        {
          "output_type": "stream",
          "name": "stdout",
          "text": [
            "1 1 1 1 1 \n",
            "\n",
            "2 2 2 2 \n",
            "\n",
            "3 3 3 \n",
            "\n",
            "4 4 \n",
            "\n",
            "5 \n",
            "\n"
          ]
        }
      ]
    },
    {
      "cell_type": "code",
      "source": [
        "#d)\n",
        "\n",
        "#5 5 5 5 5\n",
        "#5 5 5 5\n",
        "#5 5 5\n",
        "#5 5\n",
        "#5\n",
        "\n"
      ],
      "metadata": {
        "id": "zsPNcxw_boaW"
      },
      "execution_count": null,
      "outputs": []
    },
    {
      "cell_type": "code",
      "source": [
        "for i in range(1,6):\n",
        "  for j in range(1,6):\n",
        "    if j >= i:\n",
        "      print(\"5\", end = \" \")\n",
        "  print(\"\\n\")"
      ],
      "metadata": {
        "colab": {
          "base_uri": "https://localhost:8080/"
        },
        "id": "kQ-XLTaTb6_j",
        "outputId": "d0036fa2-a8f8-45f0-9ca7-ebb05ca71e5b"
      },
      "execution_count": null,
      "outputs": [
        {
          "output_type": "stream",
          "name": "stdout",
          "text": [
            "5 5 5 5 5 \n",
            "\n",
            "5 5 5 5 \n",
            "\n",
            "5 5 5 \n",
            "\n",
            "5 5 \n",
            "\n",
            "5 \n",
            "\n"
          ]
        }
      ]
    },
    {
      "cell_type": "code",
      "source": [
        "# e)\n",
        "\n",
        "#0 1 2 3 4 5\n",
        "#0 1 2 3 4\n",
        "#0 1 2 3\n",
        "#0 1 2\n",
        "#0 1\n"
      ],
      "metadata": {
        "id": "wRGf4NclcBQE"
      },
      "execution_count": null,
      "outputs": []
    },
    {
      "cell_type": "code",
      "source": [
        "p=6\n",
        "for i in range(1,6):\n",
        "  for j in range(0,p):\n",
        "    print(j, end = \" \")\n",
        "  print(\"\\n\")\n",
        "  p -= 1"
      ],
      "metadata": {
        "colab": {
          "base_uri": "https://localhost:8080/"
        },
        "id": "I1-S1nubcNRL",
        "outputId": "d620497b-1c01-4103-8425-0041af8b529a"
      },
      "execution_count": 50,
      "outputs": [
        {
          "output_type": "stream",
          "name": "stdout",
          "text": [
            "0 1 2 3 4 5 \n",
            "\n",
            "0 1 2 3 4 \n",
            "\n",
            "0 1 2 3 \n",
            "\n",
            "0 1 2 \n",
            "\n",
            "0 1 \n",
            "\n"
          ]
        }
      ]
    },
    {
      "cell_type": "code",
      "source": [
        "# f)\n",
        "\n",
        "#1\n",
        "#3 3\n",
        "#5 5 5\n",
        "#7 7 7 7\n",
        "#9 9 9 9 9\n"
      ],
      "metadata": {
        "id": "D6k89DCycd8w"
      },
      "execution_count": null,
      "outputs": []
    },
    {
      "cell_type": "code",
      "source": [
        "k = 1\n",
        "for i in range(0,5):\n",
        "  for j in range(0,5):\n",
        "    if j <= i:\n",
        "      print(k, end = \" \")\n",
        "  print(\"\\n\")\n",
        "  k += 2"
      ],
      "metadata": {
        "colab": {
          "base_uri": "https://localhost:8080/"
        },
        "id": "gKyNOHdQeCRE",
        "outputId": "3eb72734-f901-4890-d5b8-3804f9cc7651"
      },
      "execution_count": null,
      "outputs": [
        {
          "output_type": "stream",
          "name": "stdout",
          "text": [
            "1 \n",
            "\n",
            "3 3 \n",
            "\n",
            "5 5 5 \n",
            "\n",
            "7 7 7 7 \n",
            "\n",
            "9 9 9 9 9 \n",
            "\n"
          ]
        }
      ]
    },
    {
      "cell_type": "code",
      "source": [
        "#g)\n",
        "\n",
        "#5 5 5 5 5\n",
        "#4 4 4 4\n",
        "#3 3 3\n",
        "#2 2\n",
        "#1\n"
      ],
      "metadata": {
        "id": "P7kmVc7ZfOMe"
      },
      "execution_count": null,
      "outputs": []
    },
    {
      "cell_type": "code",
      "source": [
        "i = 5\n",
        "while i >= 1:\n",
        "  j = i\n",
        "  while j >= 1:\n",
        "    if j <= i:\n",
        "      print(i, end = \" \")\n",
        "    j -= 1\n",
        "  print(\"\\n\")\n",
        "  i -= 1"
      ],
      "metadata": {
        "colab": {
          "base_uri": "https://localhost:8080/"
        },
        "id": "Oh40_NE7fs74",
        "outputId": "a0e118af-3b79-460b-ef13-63a3267ff678"
      },
      "execution_count": null,
      "outputs": [
        {
          "output_type": "stream",
          "name": "stdout",
          "text": [
            "5 5 5 5 5 \n",
            "\n",
            "4 4 4 4 \n",
            "\n",
            "3 3 3 \n",
            "\n",
            "2 2 \n",
            "\n",
            "1 \n",
            "\n"
          ]
        }
      ]
    },
    {
      "cell_type": "code",
      "source": [
        "# h)\n",
        "\n",
        "#1\n",
        "#2 1\n",
        "#3 2 1\n",
        "#4 3 2 1\n",
        "#5 4 3 2 1\n"
      ],
      "metadata": {
        "id": "LwVq1HZNgHrM"
      },
      "execution_count": null,
      "outputs": []
    },
    {
      "cell_type": "code",
      "source": [
        "for i in range(1,6):\n",
        "  k = i\n",
        "  for j in range(1,6):\n",
        "    if j <= i:\n",
        "      print(k, end = \" \")\n",
        "      k -= 1\n",
        "  print(\"\\n\")"
      ],
      "metadata": {
        "colab": {
          "base_uri": "https://localhost:8080/"
        },
        "id": "AZ-ywr_RkW1B",
        "outputId": "c82534b3-4a2c-48c0-d010-4558241b6098"
      },
      "execution_count": 51,
      "outputs": [
        {
          "output_type": "stream",
          "name": "stdout",
          "text": [
            "1 \n",
            "\n",
            "2 1 \n",
            "\n",
            "3 2 1 \n",
            "\n",
            "4 3 2 1 \n",
            "\n",
            "5 4 3 2 1 \n",
            "\n"
          ]
        }
      ]
    },
    {
      "cell_type": "code",
      "source": [
        "# i)\n",
        "\n",
        "#5 4 3 2 1\n",
        "#4 3 2 1\n",
        "#3 2 1\n",
        "#2 1\n",
        "#1\n"
      ],
      "metadata": {
        "id": "qjdKLkXPkgEU"
      },
      "execution_count": null,
      "outputs": []
    },
    {
      "cell_type": "code",
      "source": [
        "i = 5\n",
        "while i >= 1:\n",
        "  j = i\n",
        "  while j >= 1:\n",
        "    if j <= i:\n",
        "      print(j, end = \" \")\n",
        "    j -= 1\n",
        "  print(\"\\n\")\n",
        "  i -= 1"
      ],
      "metadata": {
        "colab": {
          "base_uri": "https://localhost:8080/"
        },
        "id": "-3-xXG36oJBv",
        "outputId": "22c0d964-4468-422a-b4c2-fd7ed572c3d5"
      },
      "execution_count": null,
      "outputs": [
        {
          "output_type": "stream",
          "name": "stdout",
          "text": [
            "5 4 3 2 1 \n",
            "\n",
            "4 3 2 1 \n",
            "\n",
            "3 2 1 \n",
            "\n",
            "2 1 \n",
            "\n",
            "1 \n",
            "\n"
          ]
        }
      ]
    },
    {
      "cell_type": "code",
      "source": [
        "# j)\n",
        "\n",
        "#1\n",
        "#3 2\n",
        "#6 5 4\n",
        "#10 9 8 7\n"
      ],
      "metadata": {
        "id": "DW29Ml8nond7"
      },
      "execution_count": null,
      "outputs": []
    },
    {
      "cell_type": "code",
      "source": [
        "k = 1\n",
        "for i in range(0,4):\n",
        "  p = k\n",
        "  for j in range(0,4):\n",
        "    if j <= i:\n",
        "      print(p, end = \" \")\n",
        "    p -= 1\n",
        "  print(\"\\n\")\n",
        "  k += i+2"
      ],
      "metadata": {
        "colab": {
          "base_uri": "https://localhost:8080/"
        },
        "id": "TjcQPfICoxcx",
        "outputId": "1005036c-4a2f-46f8-f5b2-a8e03c963c0c"
      },
      "execution_count": null,
      "outputs": [
        {
          "output_type": "stream",
          "name": "stdout",
          "text": [
            "1 \n",
            "\n",
            "3 2 \n",
            "\n",
            "6 5 4 \n",
            "\n",
            "10 9 8 7 \n",
            "\n"
          ]
        }
      ]
    },
    {
      "cell_type": "code",
      "source": [
        "# k)\n",
        "\n",
        "#          1\n",
        "#        1 2\n",
        "#      1 2 3\n",
        "#    1 2 3 4\n",
        "#  1 2 3 4 5\n"
      ],
      "metadata": {
        "id": "jVstlTSepo8y"
      },
      "execution_count": 52,
      "outputs": []
    },
    {
      "cell_type": "code",
      "source": [
        "n=6\n",
        "for i in range(1,6):\n",
        "  print(\" \"*(n-i), end = \" \")\n",
        "  for j in range(1,6):\n",
        "    if j <= i:\n",
        "      print(j, end = \" \")\n",
        "  print(\"\\n\")"
      ],
      "metadata": {
        "colab": {
          "base_uri": "https://localhost:8080/"
        },
        "id": "gSChhvIVrvK_",
        "outputId": "941867ec-17e5-4175-aed2-be26cc1ace1e"
      },
      "execution_count": 57,
      "outputs": [
        {
          "output_type": "stream",
          "name": "stdout",
          "text": [
            "      1 \n",
            "\n",
            "     1 2 \n",
            "\n",
            "    1 2 3 \n",
            "\n",
            "   1 2 3 4 \n",
            "\n",
            "  1 2 3 4 5 \n",
            "\n"
          ]
        }
      ]
    },
    {
      "cell_type": "code",
      "source": [
        "# l)\n",
        "\n",
        "#1\n",
        "#1 1\n",
        "#1 2 1\n",
        "#1 3 3 1\n",
        "#1 4 6 4 1\n",
        "#1 5 10 10 5 1\n",
        "#1 6 15 20 15 6 1\n"
      ],
      "metadata": {
        "id": "7868BcRXsDLY"
      },
      "execution_count": null,
      "outputs": []
    },
    {
      "cell_type": "code",
      "source": [
        "i = 1\n",
        "while i <= 7:\n",
        "  j = 1\n",
        "  while j <= 7:\n",
        "    if j <= i:\n",
        "      print(j, end = \" \")\n",
        "    j += 1\n",
        "  print(\"\\n\")\n",
        "  i += 1"
      ],
      "metadata": {
        "colab": {
          "base_uri": "https://localhost:8080/"
        },
        "id": "jV-K7kmOuHVt",
        "outputId": "e0b122f3-56fa-47d8-8f90-74a624e8828d"
      },
      "execution_count": null,
      "outputs": [
        {
          "output_type": "stream",
          "name": "stdout",
          "text": [
            "1 \n",
            "\n",
            "1 2 \n",
            "\n",
            "1 2 3 \n",
            "\n",
            "1 2 3 4 \n",
            "\n",
            "1 2 3 4 5 \n",
            "\n",
            "1 2 3 4 5 6 \n",
            "\n",
            "1 2 3 4 5 6 7 \n",
            "\n"
          ]
        }
      ]
    },
    {
      "cell_type": "code",
      "source": [
        "# m)\n",
        "\n",
        "#1 2 3 4 5\n",
        "#2 2 3 4 5\n",
        "#3 3 3 4 5\n",
        "#4 4 4 4 5\n",
        "#5 5 5 5 5\n",
        "\n"
      ],
      "metadata": {
        "id": "XETy0QyAutO8"
      },
      "execution_count": null,
      "outputs": []
    },
    {
      "cell_type": "code",
      "source": [
        "l = 0\n",
        "for i in range(1,6):\n",
        "  for j in range(1,6):\n",
        "    if j < i:\n",
        "      print(i, end = \" \")\n",
        "    else:\n",
        "      print(j, end = \" \")\n",
        "  print(\"\\n\")"
      ],
      "metadata": {
        "colab": {
          "base_uri": "https://localhost:8080/"
        },
        "id": "5XsWLd69w4vZ",
        "outputId": "150f41d1-5023-4181-8aea-3ed87808fd04"
      },
      "execution_count": null,
      "outputs": [
        {
          "output_type": "stream",
          "name": "stdout",
          "text": [
            "1 2 3 4 5 \n",
            "\n",
            "2 2 3 4 5 \n",
            "\n",
            "3 3 3 4 5 \n",
            "\n",
            "4 4 4 4 5 \n",
            "\n",
            "5 5 5 5 5 \n",
            "\n"
          ]
        }
      ]
    },
    {
      "cell_type": "code",
      "source": [
        "#n)\n",
        "#1\n",
        "#2  4\n",
        "#3  6  9\n",
        "#4  8  12  16\n",
        "#5  10  15  20  25\n",
        "#6  12  18  24  30  36\n",
        "#7  14  21  28  35  42  49\n",
        "#8  16  24  32  40  48  56  64\n"
      ],
      "metadata": {
        "id": "mcVFLZcPxOuz"
      },
      "execution_count": null,
      "outputs": []
    },
    {
      "cell_type": "code",
      "source": [
        "for i in range(1, 9):\n",
        "  u = i\n",
        "  for j in range(1, i+1):\n",
        "    print(u, end = \" \")\n",
        "    u = u + i\n",
        "  print(\"\\n\")\n"
      ],
      "metadata": {
        "colab": {
          "base_uri": "https://localhost:8080/"
        },
        "id": "604dSJ5RzY66",
        "outputId": "f7deeaf9-857e-4e4b-bb48-ec81ccb8561c"
      },
      "execution_count": null,
      "outputs": [
        {
          "output_type": "stream",
          "name": "stdout",
          "text": [
            "1 \n",
            "\n",
            "2 4 \n",
            "\n",
            "3 6 9 \n",
            "\n",
            "4 8 12 16 \n",
            "\n",
            "5 10 15 20 25 \n",
            "\n",
            "6 12 18 24 30 36 \n",
            "\n",
            "7 14 21 28 35 42 49 \n",
            "\n",
            "8 16 24 32 40 48 56 64 \n",
            "\n"
          ]
        }
      ]
    },
    {
      "cell_type": "code",
      "source": [
        "# o)\n",
        "\n",
        "#*\n",
        "#* *\n",
        "#* * *\n",
        "#* * * *\n",
        "#* * * * *\n"
      ],
      "metadata": {
        "id": "rHBZZl_34F1C"
      },
      "execution_count": null,
      "outputs": []
    },
    {
      "cell_type": "code",
      "source": [
        "for l in range(1,6):\n",
        "  print(\"* \"*l)"
      ],
      "metadata": {
        "colab": {
          "base_uri": "https://localhost:8080/"
        },
        "id": "a1jr39Uu4Rf9",
        "outputId": "0ab035cc-fdc2-4441-bf3c-7813ce7f4a3d"
      },
      "execution_count": 2,
      "outputs": [
        {
          "output_type": "stream",
          "name": "stdout",
          "text": [
            "* \n",
            "* * \n",
            "* * * \n",
            "* * * * \n",
            "* * * * * \n"
          ]
        }
      ]
    },
    {
      "cell_type": "code",
      "source": [
        "# p)\n",
        "\n",
        " #       *\n",
        " #     * *\n",
        " #   * * *\n",
        " # * * * *\n",
        "#* * * * *\n"
      ],
      "metadata": {
        "id": "4-UqI70A4d5p"
      },
      "execution_count": null,
      "outputs": []
    },
    {
      "cell_type": "code",
      "source": [
        "n = 6-1\n",
        "for p in range(1,6):\n",
        "  print((\" \"*(n-p)) + (\"*\"*p))"
      ],
      "metadata": {
        "id": "qQ7s3FBD4ny1",
        "colab": {
          "base_uri": "https://localhost:8080/"
        },
        "outputId": "42e52014-2cf8-48f2-93d4-87630e32ae65"
      },
      "execution_count": 7,
      "outputs": [
        {
          "output_type": "stream",
          "name": "stdout",
          "text": [
            "    *\n",
            "   **\n",
            "  ***\n",
            " ****\n",
            "*****\n"
          ]
        }
      ]
    },
    {
      "cell_type": "code",
      "source": [
        "# q)\n",
        "\n",
        "#* * * * *\n",
        "#* * * *\n",
        "#* * *\n",
        "#* *\n",
        "#*\n"
      ],
      "metadata": {
        "id": "tDXOb1a45h5o"
      },
      "execution_count": null,
      "outputs": []
    },
    {
      "cell_type": "code",
      "source": [
        "i=5\n",
        "while i>=1:\n",
        "  print(\"* \"*i)\n",
        "  i -= 1"
      ],
      "metadata": {
        "colab": {
          "base_uri": "https://localhost:8080/"
        },
        "id": "EmEiocRZ5pLU",
        "outputId": "dcdf6363-4b0b-4325-89a8-f7a878524f2d"
      },
      "execution_count": 11,
      "outputs": [
        {
          "output_type": "stream",
          "name": "stdout",
          "text": [
            "* * * * * \n",
            "* * * * \n",
            "* * * \n",
            "* * \n",
            "* \n"
          ]
        }
      ]
    },
    {
      "cell_type": "code",
      "source": [
        "#r)\n",
        "\n",
        "       # * * * * * *\n",
        "       #  * * * * *\n",
        "       #   * * * *\n",
        "       #    * * *\n",
        "       #     * *\n",
        "       #      *\n"
      ],
      "metadata": {
        "id": "Toy-o0JU53GV"
      },
      "execution_count": null,
      "outputs": []
    },
    {
      "cell_type": "code",
      "source": [
        "i=6\n",
        "n=i\n",
        "while i>=1:\n",
        "  print((\" \"*(n-i))+(\"* \"*i))\n",
        "  i -= 1"
      ],
      "metadata": {
        "colab": {
          "base_uri": "https://localhost:8080/"
        },
        "id": "AMNGlwmC6AeM",
        "outputId": "a084810e-9ed9-48ab-af58-65c056a36dff"
      },
      "execution_count": 19,
      "outputs": [
        {
          "output_type": "stream",
          "name": "stdout",
          "text": [
            "* * * * * * \n",
            " * * * * * \n",
            "  * * * * \n",
            "   * * * \n",
            "    * * \n",
            "     * \n"
          ]
        }
      ]
    },
    {
      "cell_type": "code",
      "source": [
        "# s)\n",
        "\n",
        "#*****\n",
        "# ****\n",
        "#  ***\n",
        "#   **\n",
        "#    *\n"
      ],
      "metadata": {
        "id": "LWIGYAoF7uSj"
      },
      "execution_count": 14,
      "outputs": []
    },
    {
      "cell_type": "code",
      "source": [
        "i=6\n",
        "n=i\n",
        "while i>=1:\n",
        "  print((\" \"*(n-i))+(\"*\"*i))\n",
        "  i -= 1"
      ],
      "metadata": {
        "colab": {
          "base_uri": "https://localhost:8080/"
        },
        "id": "qZXdMWivvAjS",
        "outputId": "7d52ecda-90c9-4263-d4b5-cc419b83ce7c"
      },
      "execution_count": 15,
      "outputs": [
        {
          "output_type": "stream",
          "name": "stdout",
          "text": [
            "******\n",
            " *****\n",
            "  ****\n",
            "   ***\n",
            "    **\n",
            "     *\n"
          ]
        }
      ]
    },
    {
      "cell_type": "code",
      "source": [
        "#t)\n",
        "#            *\n",
        "#           *  *\n",
        "#          *  *  *\n",
        "#         *  *  *  *\n",
        "#        *  *  *  *  *\n",
        "#       *  *  *  *  *  *\n",
        "#      *  *  *  *  *  *  *\n"
      ],
      "metadata": {
        "id": "wiMs2uWQvE8X"
      },
      "execution_count": 16,
      "outputs": []
    },
    {
      "cell_type": "code",
      "source": [
        "n = 8-1\n",
        "for i in range(1,8):\n",
        "  print((\" \"*(n-i))+(\"* \"*i))"
      ],
      "metadata": {
        "colab": {
          "base_uri": "https://localhost:8080/"
        },
        "id": "bk3hNJWuvQqO",
        "outputId": "6d6761b9-cb0f-4be2-88e6-d243678577cc"
      },
      "execution_count": 17,
      "outputs": [
        {
          "output_type": "stream",
          "name": "stdout",
          "text": [
            "      * \n",
            "     * * \n",
            "    * * * \n",
            "   * * * * \n",
            "  * * * * * \n",
            " * * * * * * \n",
            "* * * * * * * \n"
          ]
        }
      ]
    },
    {
      "cell_type": "code",
      "source": [
        "# q)\n",
        "\n",
        "'''*\n",
        "* *\n",
        "* * *\n",
        "* * * *\n",
        "* * * * *\n",
        "* * * * * *\n",
        "\n",
        "* * * * * *\n",
        "* * * * *\n",
        "* * * *\n",
        "* * *\n",
        "* *\n",
        "*  '''\n"
      ],
      "metadata": {
        "colab": {
          "base_uri": "https://localhost:8080/",
          "height": 35
        },
        "id": "IteXVFjbvsYH",
        "outputId": "90071fc7-022e-42f7-9a38-2fb299ab2c79"
      },
      "execution_count": 20,
      "outputs": [
        {
          "output_type": "execute_result",
          "data": {
            "text/plain": [
              "'*  \\n* *  \\n* * *  \\n* * * *  \\n* * * * *  \\n* * * * * *  \\n \\n* * * * * *  \\n* * * * *  \\n* * * *  \\n* * *  \\n* *  \\n*  '"
            ],
            "application/vnd.google.colaboratory.intrinsic+json": {
              "type": "string"
            }
          },
          "metadata": {},
          "execution_count": 20
        }
      ]
    },
    {
      "cell_type": "code",
      "source": [
        "for l in range(1,6):\n",
        "  print(\"* \"*l)\n",
        "print(\"\\n\")\n",
        "i=5\n",
        "while i>=1:\n",
        "  print(\"* \"*i)\n",
        "  i -= 1"
      ],
      "metadata": {
        "colab": {
          "base_uri": "https://localhost:8080/"
        },
        "id": "jQx5Om73xM57",
        "outputId": "d1863ab8-3e35-4359-f41f-daea85d64e18"
      },
      "execution_count": 23,
      "outputs": [
        {
          "output_type": "stream",
          "name": "stdout",
          "text": [
            "* \n",
            "* * \n",
            "* * * \n",
            "* * * * \n",
            "* * * * * \n",
            "\n",
            "\n",
            "* * * * * \n",
            "* * * * \n",
            "* * * \n",
            "* * \n",
            "* \n"
          ]
        }
      ]
    },
    {
      "cell_type": "code",
      "source": [
        "# r)\n",
        "\n",
        "#*\n",
        "#* *\n",
        "#* * *\n",
        "#* * * *\n",
        "#* * * * *\n",
        "#* * * *\n",
        "#* * *\n",
        "#* *\n",
        "#*\n"
      ],
      "metadata": {
        "id": "ZX3CC8zXxgax"
      },
      "execution_count": 24,
      "outputs": []
    },
    {
      "cell_type": "code",
      "source": [
        "for l in range(1,6):\n",
        "  print(\"* \"*l)\n",
        "\n",
        "i=5\n",
        "while i>=1:\n",
        "  print(\"* \"*i)\n",
        "  i -= 1"
      ],
      "metadata": {
        "colab": {
          "base_uri": "https://localhost:8080/"
        },
        "id": "q0JclcAHx8VR",
        "outputId": "749bbffd-8d72-4e75-e35d-6e05710112b8"
      },
      "execution_count": 25,
      "outputs": [
        {
          "output_type": "stream",
          "name": "stdout",
          "text": [
            "* \n",
            "* * \n",
            "* * * \n",
            "* * * * \n",
            "* * * * * \n",
            "* * * * * \n",
            "* * * * \n",
            "* * * \n",
            "* * \n",
            "* \n"
          ]
        }
      ]
    },
    {
      "cell_type": "code",
      "source": [
        "# s)\n",
        "\n",
        "#        *\n",
        "#      * *\n",
        "#    * * *\n",
        "#  * * * *\n",
        "#* * * * *\n",
        "#  * * * *\n",
        "#    * * *\n",
        "#      * *\n",
        "#        *\n"
      ],
      "metadata": {
        "id": "oKjsvheKx_9L"
      },
      "execution_count": 26,
      "outputs": []
    },
    {
      "cell_type": "code",
      "source": [
        "n = 6-1\n",
        "for p in range(1,6):\n",
        "  print((\" \"*(n-p)) + (\"*\"*p))\n",
        "i=4\n",
        "n=5\n",
        "while i>=1:\n",
        "  print((\" \"*(n-i)) + (\"*\"*i))\n",
        "  i -= 1"
      ],
      "metadata": {
        "colab": {
          "base_uri": "https://localhost:8080/"
        },
        "id": "rHBL3OfgyOra",
        "outputId": "4502fb0b-be95-47a0-b3fa-fcb6cfd2b95f"
      },
      "execution_count": 28,
      "outputs": [
        {
          "output_type": "stream",
          "name": "stdout",
          "text": [
            "    *\n",
            "   **\n",
            "  ***\n",
            " ****\n",
            "*****\n",
            " ****\n",
            "  ***\n",
            "   **\n",
            "    *\n"
          ]
        }
      ]
    },
    {
      "cell_type": "code",
      "source": [
        "#t)\n",
        "\n",
        "#* * * * *\n",
        "# * * * *\n",
        "#  * * *\n",
        "#   * *\n",
        "#    *\n",
        "#    *\n",
        "#   * *\n",
        "#  * * *\n",
        "# * * * *\n",
        "#* * * * *\n",
        "\n",
        "\n"
      ],
      "metadata": {
        "id": "Fvb8xcGzyWQM"
      },
      "execution_count": 29,
      "outputs": []
    },
    {
      "cell_type": "code",
      "source": [
        "i=6\n",
        "n=i\n",
        "while i>=1:\n",
        "  print((\" \"*(n-i))+(\"* \"*i))\n",
        "  i -= 1\n",
        "\n",
        "n = 7-1\n",
        "for i in range(1,7):\n",
        "  print((\" \"*(n-i))+(\"* \"*i))"
      ],
      "metadata": {
        "colab": {
          "base_uri": "https://localhost:8080/"
        },
        "id": "4WybfdbbzKjE",
        "outputId": "4f7896e2-1d88-4c2b-acbe-9a1451acf3c1"
      },
      "execution_count": 31,
      "outputs": [
        {
          "output_type": "stream",
          "name": "stdout",
          "text": [
            "* * * * * * \n",
            " * * * * * \n",
            "  * * * * \n",
            "   * * * \n",
            "    * * \n",
            "     * \n",
            "     * \n",
            "    * * \n",
            "   * * * \n",
            "  * * * * \n",
            " * * * * * \n",
            "* * * * * * \n"
          ]
        }
      ]
    },
    {
      "cell_type": "code",
      "source": [
        "# u)\n",
        "\n",
        "#        *\n",
        "#       * *\n",
        "#      * * *\n",
        "#     * * * *\n",
        "#    * * * * *\n",
        "#   * * * * * *\n",
        "#    * * * * *\n",
        "#     * * * *\n",
        "#      * * *\n",
        "#       * *\n",
        "#        *\n"
      ],
      "metadata": {
        "id": "ChsEGmA_zXvh"
      },
      "execution_count": 32,
      "outputs": []
    },
    {
      "cell_type": "code",
      "source": [
        "n = 7-1\n",
        "for i in range(1,7):\n",
        "  print((\" \"*(n-i))+(\"* \"*i))\n",
        "\n",
        "i=5\n",
        "m=6\n",
        "while i>=1:\n",
        "  print((\" \"*(m-i))+(\"* \"*i))\n",
        "  i -= 1"
      ],
      "metadata": {
        "colab": {
          "base_uri": "https://localhost:8080/"
        },
        "id": "s8bSYGjrzxVy",
        "outputId": "c2459cf2-43d9-4cbb-e6c4-09bb83c75c81"
      },
      "execution_count": 36,
      "outputs": [
        {
          "output_type": "stream",
          "name": "stdout",
          "text": [
            "     * \n",
            "    * * \n",
            "   * * * \n",
            "  * * * * \n",
            " * * * * * \n",
            "* * * * * * \n",
            " * * * * * \n",
            "  * * * * \n",
            "   * * * \n",
            "    * * \n",
            "     * \n"
          ]
        }
      ]
    },
    {
      "cell_type": "code",
      "source": [
        "#v)\n",
        "\n",
        "#    *\n",
        "#   * *\n",
        "#  *   *\n",
        "# *     *\n",
        "#*       *\n",
        "# *     *\n",
        "#  *   *\n",
        "#   * *\n",
        "#    *\n"
      ],
      "metadata": {
        "id": "DtHl04vvz5RC"
      },
      "execution_count": 37,
      "outputs": []
    },
    {
      "cell_type": "code",
      "source": [
        "n = 7-1\n",
        "for i in range(1,7):\n",
        "  print((\" \"*(n-i))+(\"* \"*i))\n",
        "\n",
        "i=5\n",
        "m=6\n",
        "while i>=1:\n",
        "  print((\" \"*(m-i))+(\"* \"*i))\n",
        "  i -= 1"
      ],
      "metadata": {
        "colab": {
          "base_uri": "https://localhost:8080/"
        },
        "id": "w6LgW8er00-G",
        "outputId": "8d103028-68f7-4820-ee8b-5be274517899"
      },
      "execution_count": 38,
      "outputs": [
        {
          "output_type": "stream",
          "name": "stdout",
          "text": [
            "     * \n",
            "    * * \n",
            "   * * * \n",
            "  * * * * \n",
            " * * * * * \n",
            "* * * * * * \n",
            " * * * * * \n",
            "  * * * * \n",
            "   * * * \n",
            "    * * \n",
            "     * \n"
          ]
        }
      ]
    },
    {
      "cell_type": "code",
      "source": [],
      "metadata": {
        "id": "Ka9AXclp1zMo"
      },
      "execution_count": null,
      "outputs": []
    }
  ]
}