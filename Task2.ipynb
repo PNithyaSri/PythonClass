{
  "nbformat": 4,
  "nbformat_minor": 0,
  "metadata": {
    "colab": {
      "provenance": []
    },
    "kernelspec": {
      "name": "python3",
      "display_name": "Python 3"
    },
    "language_info": {
      "name": "python"
    }
  },
  "cells": [
    {
      "cell_type": "code",
      "execution_count": null,
      "metadata": {
        "id": "lU-Yv8kTgcDq"
      },
      "outputs": [],
      "source": [
        "# Q1: Write a program to accept two numbers from the user and calculate multiplication, division"
      ]
    },
    {
      "cell_type": "code",
      "source": [
        "num1 = int(input(\"Enter a number \"))\n",
        "num2 = int(input(\"Enter a number \"))\n",
        "print(num1*num2)\n",
        "if num1>num2:\n",
        "  print(num1//num2)\n",
        "else:\n",
        "  print(num2//num1)\n"
      ],
      "metadata": {
        "id": "mSCX6G0KhYSQ",
        "colab": {
          "base_uri": "https://localhost:8080/"
        },
        "outputId": "080f5b7b-acb0-4a42-c38f-b96e850c6add"
      },
      "execution_count": null,
      "outputs": [
        {
          "output_type": "stream",
          "name": "stdout",
          "text": [
            "Enter a number 10\n",
            "Enter a number 20\n",
            "200\n",
            "2\n"
          ]
        }
      ]
    },
    {
      "cell_type": "code",
      "source": [
        "# Q2: Write a python program to print the characters from a string that are present at an even index"
      ],
      "metadata": {
        "id": "DUYd0dY_he3h"
      },
      "execution_count": null,
      "outputs": []
    },
    {
      "cell_type": "code",
      "source": [
        "s = \"class room\"\n",
        "for i in range(0,len(s)):\n",
        "  if i%2==0:\n",
        "    print(s[i])"
      ],
      "metadata": {
        "colab": {
          "base_uri": "https://localhost:8080/"
        },
        "id": "3osPKUtnhh5m",
        "outputId": "00c17b3b-3cdb-442a-b25f-de96e5937599"
      },
      "execution_count": null,
      "outputs": [
        {
          "output_type": "stream",
          "name": "stdout",
          "text": [
            "c\n",
            "a\n",
            "s\n",
            "r\n",
            "o\n"
          ]
        }
      ]
    },
    {
      "cell_type": "code",
      "source": [
        "# Q3: Write a python program to print the characters from a string that are present at an odd index"
      ],
      "metadata": {
        "id": "FOL3SIeohsDb"
      },
      "execution_count": null,
      "outputs": []
    },
    {
      "cell_type": "code",
      "source": [
        "s = \"class room\"\n",
        "for i in range(0,len(s)):\n",
        "  if i%2!=0:\n",
        "    print(s[i])"
      ],
      "metadata": {
        "colab": {
          "base_uri": "https://localhost:8080/"
        },
        "id": "l4vqpt9j6UOs",
        "outputId": "46703307-c963-40a3-cd0f-c4a39e3963fb"
      },
      "execution_count": null,
      "outputs": [
        {
          "output_type": "stream",
          "name": "stdout",
          "text": [
            "l\n",
            "s\n",
            " \n",
            "o\n",
            "m\n"
          ]
        }
      ]
    },
    {
      "cell_type": "code",
      "source": [
        "# Q4: Write a python program which will print the sum of the two numbers if the two numbers are even or it will print the difference of two numbers"
      ],
      "metadata": {
        "id": "OML_LGIU6ZLJ"
      },
      "execution_count": null,
      "outputs": []
    },
    {
      "cell_type": "code",
      "source": [
        "num1 = int(input(\"Enter a number \"))\n",
        "num2 = int(input(\"Enter a number \"))\n",
        "if num1%2==0 and num2%2==0:\n",
        "  print(num1+num2)\n",
        "else:\n",
        "  print(num1-num2)"
      ],
      "metadata": {
        "colab": {
          "base_uri": "https://localhost:8080/"
        },
        "id": "BbIdRDV_6p_F",
        "outputId": "3dc5f27e-566e-4803-be2f-4ee2d7b8bde4"
      },
      "execution_count": null,
      "outputs": [
        {
          "output_type": "stream",
          "name": "stdout",
          "text": [
            "Enter a number 12\n",
            "Enter a number 13\n",
            "-1\n"
          ]
        }
      ]
    },
    {
      "cell_type": "code",
      "source": [
        "# Q5: Write a python program to convert all even indexed alphabets to upper and odd indexed char"
      ],
      "metadata": {
        "id": "6HfHw0J47OXW"
      },
      "execution_count": null,
      "outputs": []
    },
    {
      "cell_type": "code",
      "source": [
        "s = \"python\"\n",
        "r = \" \"\n",
        "for y in range(0,len(s)):\n",
        "  if y%2==0:\n",
        "    r = r + s[y].upper()\n",
        "  else:\n",
        "    r = r + s[y]\n",
        "print(r)"
      ],
      "metadata": {
        "colab": {
          "base_uri": "https://localhost:8080/"
        },
        "id": "PTXGXEW_7kXp",
        "outputId": "552304fd-e263-423f-c1eb-846682545b4d"
      },
      "execution_count": null,
      "outputs": [
        {
          "output_type": "stream",
          "name": "stdout",
          "text": [
            " PyThOn\n"
          ]
        }
      ]
    },
    {
      "cell_type": "code",
      "source": [
        "# Q6: Write a python program which will print True if the input number is divisible by 5 or else False"
      ],
      "metadata": {
        "id": "t0oNocYQ8YGW"
      },
      "execution_count": null,
      "outputs": []
    },
    {
      "cell_type": "code",
      "source": [
        "num = int(input(\"Enter a number \"))\n",
        "if num % 5 == 0:\n",
        "  print(\"True\")\n",
        "else:\n",
        "  print(\"False\")"
      ],
      "metadata": {
        "colab": {
          "base_uri": "https://localhost:8080/"
        },
        "id": "D33Iq55A8HPM",
        "outputId": "13a323b1-c6f5-43c8-8900-c0efab5add36"
      },
      "execution_count": null,
      "outputs": [
        {
          "output_type": "stream",
          "name": "stdout",
          "text": [
            "Enter a number 56\n",
            "False\n"
          ]
        }
      ]
    },
    {
      "cell_type": "code",
      "source": [
        "# Q7: Given two integer numbers return their product only if the product is greater than 1000, else return their sum\n"
      ],
      "metadata": {
        "id": "WOYiVpef8yKm"
      },
      "execution_count": null,
      "outputs": []
    },
    {
      "cell_type": "code",
      "source": [
        "n1 = int(input(\"Enter a number \"))\n",
        "n2 = int(input(\"Enter a number \"))\n",
        "if n1*n2 > 1000:\n",
        "  print(n1*n2)\n",
        "else:\n",
        "  print(n1+n2)"
      ],
      "metadata": {
        "colab": {
          "base_uri": "https://localhost:8080/"
        },
        "id": "C-eedjnq9Ak5",
        "outputId": "b02ecc90-875d-4e94-e827-fc49250f14e1"
      },
      "execution_count": null,
      "outputs": [
        {
          "output_type": "stream",
          "name": "stdout",
          "text": [
            "Enter a number 10\n",
            "Enter a number 12\n",
            "22\n"
          ]
        }
      ]
    },
    {
      "cell_type": "code",
      "source": [
        "# Q8: Given two strings x, y writes a program to return a new string made of x and y’s first, middle, and last characters"
      ],
      "metadata": {
        "id": "iKj3ej7D9WPX"
      },
      "execution_count": null,
      "outputs": []
    },
    {
      "cell_type": "code",
      "source": [
        "X= \"pytho\"\n",
        "Y= \"javas\"\n",
        "s = \"\"\n",
        "for i in range(0,5):\n",
        "  if i%2==0:\n",
        "    s = s+X[i]+Y[i]\n",
        "print(s)"
      ],
      "metadata": {
        "colab": {
          "base_uri": "https://localhost:8080/"
        },
        "id": "FD9ewpOQ97hG",
        "outputId": "b9ab3cf7-29dd-496a-fd1c-0068ccc376fc"
      },
      "execution_count": null,
      "outputs": [
        {
          "output_type": "stream",
          "name": "stdout",
          "text": [
            "pjtvos\n"
          ]
        }
      ]
    },
    {
      "cell_type": "code",
      "source": [
        "# Q9: Write a python program to take three names as input from a user in the single input () function call\n"
      ],
      "metadata": {
        "id": "gUljT-gv-VEK"
      },
      "execution_count": null,
      "outputs": []
    },
    {
      "cell_type": "code",
      "source": [
        "names = input(\"Enter three names \")\n",
        "print(names.split())"
      ],
      "metadata": {
        "colab": {
          "base_uri": "https://localhost:8080/"
        },
        "id": "oWD8BaEn_Jev",
        "outputId": "fb52f68d-6b87-4b5c-adb0-a5e002ca6163"
      },
      "execution_count": null,
      "outputs": [
        {
          "output_type": "stream",
          "name": "stdout",
          "text": [
            "Enter three names jack jill rock\n",
            "['jack', 'jill', 'rock']\n"
          ]
        }
      ]
    },
    {
      "cell_type": "code",
      "source": [
        "# Q10: Write a Python program to get a string from a given string where all occurrences of its first char have been changed to '@', except the first char itself."
      ],
      "metadata": {
        "id": "kK_8Dk3qAKs5"
      },
      "execution_count": null,
      "outputs": []
    },
    {
      "cell_type": "code",
      "source": [
        "string = input(\"Enter a string \")\n",
        "x=string[1:].replace(string[0], '@')\n",
        "string[0]+x"
      ],
      "metadata": {
        "id": "E0o1M2OhAbwC",
        "colab": {
          "base_uri": "https://localhost:8080/",
          "height": 53
        },
        "outputId": "06099ee3-085a-4a0c-ddfd-d0d70b14dac3"
      },
      "execution_count": null,
      "outputs": [
        {
          "name": "stdout",
          "output_type": "stream",
          "text": [
            "Enter a string malyalam\n"
          ]
        },
        {
          "output_type": "execute_result",
          "data": {
            "text/plain": [
              "'malyala@'"
            ],
            "application/vnd.google.colaboratory.intrinsic+json": {
              "type": "string"
            }
          },
          "metadata": {},
          "execution_count": 5
        }
      ]
    },
    {
      "cell_type": "code",
      "source": [
        "# Q11: Write a Python program to add 'ing' at the end of a given string (string length should be equal to or more than 3). If the given string already ends with 'ing' then add 'ly' instead. If the string length of the given string is less than 3, leave it unchanged"
      ],
      "metadata": {
        "id": "_kXlb2yb77WM"
      },
      "execution_count": null,
      "outputs": []
    },
    {
      "cell_type": "code",
      "source": [
        "string1 = input(\"Enter a string \")\n",
        "if len(string1) < 3:\n",
        "  print(string1)\n",
        "else:\n",
        "  if \"ing\" in string1:\n",
        "    print(string1.replace(\"ing\",\"ly\"))\n",
        "  else:\n",
        "    print(string1+\"ing\")"
      ],
      "metadata": {
        "colab": {
          "base_uri": "https://localhost:8080/"
        },
        "id": "J_GqGuAC9cyx",
        "outputId": "9ff459e4-cf2c-48a2-9e8c-8611e2ff577d"
      },
      "execution_count": null,
      "outputs": [
        {
          "output_type": "stream",
          "name": "stdout",
          "text": [
            "Enter a string playing\n",
            "playly\n"
          ]
        }
      ]
    },
    {
      "cell_type": "code",
      "source": [
        "# Q12: Write a python program that accepts two inputs num1 and num2 print True if one of them is 10 or if their sum is 10 otherwise print False"
      ],
      "metadata": {
        "id": "ob_C6dfc_HTj"
      },
      "execution_count": null,
      "outputs": []
    },
    {
      "cell_type": "code",
      "source": [
        "num1 = int(input(\"Enter a number \"))\n",
        "num2 = int(input(\"Enter a number \"))\n",
        "if num1 == 10 or num2 == 10 or num1+num2 == 10:\n",
        "  print(\"True\")\n",
        "else:\n",
        "  print(\"False\")"
      ],
      "metadata": {
        "colab": {
          "base_uri": "https://localhost:8080/"
        },
        "id": "0VdLH_zKC0Pm",
        "outputId": "d500ccff-78ba-47a7-b934-dfa6628b6017"
      },
      "execution_count": null,
      "outputs": [
        {
          "output_type": "stream",
          "name": "stdout",
          "text": [
            "Enter a number 6\n",
            "Enter a number 4\n",
            "True\n"
          ]
        }
      ]
    },
    {
      "cell_type": "code",
      "source": [
        "# Q13: Write a python program that accepts three inputs x, y and z print True if x*y>z otherwise False"
      ],
      "metadata": {
        "id": "dsOYk5UmDIjp"
      },
      "execution_count": null,
      "outputs": []
    },
    {
      "cell_type": "code",
      "source": [
        "x = int(input(\"Enter a number \"))\n",
        "y = int(input(\"Enter a number \"))\n",
        "z = int(input(\"Enter a number \"))\n",
        "if x*y>z:\n",
        "  print(\"True\")\n",
        "else:\n",
        "  print(\"False\")"
      ],
      "metadata": {
        "colab": {
          "base_uri": "https://localhost:8080/"
        },
        "id": "PKCGY7fbDam3",
        "outputId": "e01ba97a-c5da-42e4-b1e6-c0e5fcbf9716"
      },
      "execution_count": null,
      "outputs": [
        {
          "output_type": "stream",
          "name": "stdout",
          "text": [
            "Enter a number 5\n",
            "Enter a number 3\n",
            "Enter a number 15\n",
            "False\n"
          ]
        }
      ]
    },
    {
      "cell_type": "code",
      "source": [
        "# Q14: Write a python program that accepts two strings inputs return True depending on whether the total number of characters in the first string is equal to the total number of characters in the second string"
      ],
      "metadata": {
        "id": "Z8wTluGMDs68"
      },
      "execution_count": null,
      "outputs": []
    },
    {
      "cell_type": "code",
      "source": [
        "string1 = input(\"Enter a string \")\n",
        "string2 = input(\"Enter a string \")\n",
        "if len(string1) == len(string2):\n",
        "  print(\"True\")\n",
        "else:\n",
        "  print(\"False\")"
      ],
      "metadata": {
        "colab": {
          "base_uri": "https://localhost:8080/"
        },
        "id": "2VgNkt77Ec4G",
        "outputId": "d95687ea-1a3b-4c6d-ce0f-4b22b381ccbe"
      },
      "execution_count": null,
      "outputs": [
        {
          "output_type": "stream",
          "name": "stdout",
          "text": [
            "Enter a string python\n",
            "Enter a string program\n",
            "False\n"
          ]
        }
      ]
    },
    {
      "cell_type": "code",
      "source": [
        "# Q15: Write a python program that takes a string input, we'll say that the front is the first three characters of the string. If the string length is less than three characters, the front is whatever is there. Return a new string, which is three copies of the front\n"
      ],
      "metadata": {
        "id": "PvTJB_SvE1cZ"
      },
      "execution_count": null,
      "outputs": []
    },
    {
      "cell_type": "code",
      "source": [
        "string2 = input(\"Enter a string \")\n",
        "if len(string2) < 3:\n",
        "  print(string2)\n",
        "else:\n",
        "  print((string2[0:3]+\" \")*3)"
      ],
      "metadata": {
        "colab": {
          "base_uri": "https://localhost:8080/"
        },
        "id": "mM7AUCTtGTy_",
        "outputId": "d7194062-30bc-4f6e-d9ad-ad747908f331"
      },
      "execution_count": null,
      "outputs": [
        {
          "output_type": "stream",
          "name": "stdout",
          "text": [
            "Enter a string python\n",
            "pyt pyt pyt \n"
          ]
        }
      ]
    },
    {
      "cell_type": "code",
      "source": [
        "# Q16: Write a python program that takes in a word and determines whether or not it is plural. A plural word is one that ends in \"s\"."
      ],
      "metadata": {
        "id": "gxAh4tBlHCTo"
      },
      "execution_count": null,
      "outputs": []
    },
    {
      "cell_type": "code",
      "source": [
        "string3 = input(\"Enter a string \")\n",
        "if string3.endswith(\"s\"):\n",
        "  print(\"Plural\")\n",
        "else:\n",
        "  print(\"Non Plural\")"
      ],
      "metadata": {
        "colab": {
          "base_uri": "https://localhost:8080/"
        },
        "id": "B_bwdhqFHoLy",
        "outputId": "c428ca37-0414-428a-dbcd-e3bb219f191f"
      },
      "execution_count": null,
      "outputs": [
        {
          "output_type": "stream",
          "name": "stdout",
          "text": [
            "Enter a string room\n",
            "Non Plural\n"
          ]
        }
      ]
    },
    {
      "cell_type": "code",
      "source": [
        "# Q17: A bartender is writing a simple program to determine whether he should serve drinks to someone. He only serves drinks to people 18 and older and when he's not on break(True means break and False means not a break time). Given the person's age,and whether break time is in session, create a python program which prints whether he should serve drinks or not.\n"
      ],
      "metadata": {
        "id": "NYzQt3GdH-3J"
      },
      "execution_count": null,
      "outputs": []
    },
    {
      "cell_type": "code",
      "source": [
        "age = int(input(\"Enter the age of customer \"))\n",
        "session = bool(input(\"Enter whether bartender is on or off duty \"))\n",
        "print(session)\n",
        "if age >= 18 and session == True:\n",
        "  print(\"Serve the Customer\")\n",
        "else:\n",
        "  print(\"Cannot serve the Customer\")"
      ],
      "metadata": {
        "colab": {
          "base_uri": "https://localhost:8080/"
        },
        "id": "uvsC1Ug0Iyws",
        "outputId": "c5469f2b-8c9b-4dc4-8e4f-291b0849b4de"
      },
      "execution_count": null,
      "outputs": [
        {
          "output_type": "stream",
          "name": "stdout",
          "text": [
            "Enter the age of customer 56\n",
            "Enter whether bartender is on or off duty 1\n",
            "True\n",
            "Serve the Customer\n"
          ]
        }
      ]
    },
    {
      "cell_type": "code",
      "source": [
        "# Q18: Manoj Kumar has family and friends. Help him remind them who is who. Given a string with a name, return the relation of that person to Manoj Kumar.\n"
      ],
      "metadata": {
        "id": "nLvGFuqnJe1e"
      },
      "execution_count": null,
      "outputs": []
    },
    {
      "cell_type": "code",
      "source": [
        "relation = {\"Shiva\":\"father\", \"Latha\":\"mother\", \"Tarun\":\"brother\", \"Kavitha\":\"sister\"}\n",
        "relation[\"Latha\"]"
      ],
      "metadata": {
        "colab": {
          "base_uri": "https://localhost:8080/",
          "height": 35
        },
        "id": "jxxPtMTUJ84I",
        "outputId": "77b5fea8-054c-4a8f-bc63-71607c650476"
      },
      "execution_count": null,
      "outputs": [
        {
          "output_type": "execute_result",
          "data": {
            "text/plain": [
              "'mother'"
            ],
            "application/vnd.google.colaboratory.intrinsic+json": {
              "type": "string"
            }
          },
          "metadata": {},
          "execution_count": 51
        }
      ]
    },
    {
      "cell_type": "code",
      "source": [
        "# Q19: Write a python program that takes a string, breaks it up and returns it with vowels first, consonants second. For any character that's not a vowel (like special characters or spaces), treat them like consonants\n"
      ],
      "metadata": {
        "id": "iHGtPyF3J_aq"
      },
      "execution_count": null,
      "outputs": []
    },
    {
      "cell_type": "code",
      "source": [
        "string4 = input(\"Enter a string \")\n",
        "vowels = ['a','e','i','o','u']\n",
        "consonants = ['b','c','d','f','g','h','j','k','l','m','n','p','q','r','s','t','v','w','x','y','z','','!','@','#','$','%','^','&','*']\n",
        "f = \"\"\n",
        "s = \"\"\n",
        "for i in range(0,len(string4)):\n",
        "  if string4[i] in vowels:\n",
        "    f = f + string4[i]\n",
        "  if string4[i] in consonants:\n",
        "    s = s + string4[i]\n",
        "print(f)\n",
        "print(s)"
      ],
      "metadata": {
        "colab": {
          "base_uri": "https://localhost:8080/"
        },
        "id": "Rpf1gsp9KBia",
        "outputId": "cd500760-ecfc-4829-8a5a-2a23078999c6"
      },
      "execution_count": null,
      "outputs": [
        {
          "output_type": "stream",
          "name": "stdout",
          "text": [
            "Enter a string apple\n",
            "ae\n",
            "ppl\n"
          ]
        }
      ]
    },
    {
      "cell_type": "code",
      "source": [
        "# Q20: Create a dynamic calculator which asks for numbers and operator and return the answers\n"
      ],
      "metadata": {
        "id": "CAjkTTahKDSw"
      },
      "execution_count": null,
      "outputs": []
    },
    {
      "cell_type": "code",
      "source": [
        "for i in range(0,6):\n",
        "  n1 = int(input(\"Type first number: \"))\n",
        "  s = input(\"Type any of this (+, -, *, /, %, **): \")\n",
        "  n2 = int(input(\"Type second number: \"))\n",
        "  if s == \"+\":\n",
        "    print(n1+n2)\n",
        "  elif s == \"-\":\n",
        "    print(n1-n2)\n",
        "  elif s == \"*\":\n",
        "    print(n1*n2)\n",
        "  elif s == \"/\":\n",
        "    print(n1/n2)\n",
        "  elif s == \"%\":\n",
        "    print(n1%n2)\n",
        "  elif s == \"**\":\n",
        "    print(n1**n2)\n",
        "  else:\n",
        "    print(\"Invalid input\")"
      ],
      "metadata": {
        "colab": {
          "base_uri": "https://localhost:8080/"
        },
        "id": "4rN6sCdyOXhg",
        "outputId": "ffe2cf3b-c523-4ba7-8b39-739df3acf09b"
      },
      "execution_count": null,
      "outputs": [
        {
          "output_type": "stream",
          "name": "stdout",
          "text": [
            "Type first number: 5\n",
            "Type any of this (+, -, *, /, %, **): +\n",
            "Type second number: 3\n",
            "8\n",
            "Type first number: 4\n",
            "Type any of this (+, -, *, /, %, **): -\n",
            "Type second number: 2\n",
            "2\n",
            "Type first number: 6\n",
            "Type any of this (+, -, *, /, %, **): *\n",
            "Type second number: 4\n",
            "24\n",
            "Type first number: 16\n",
            "Type any of this (+, -, *, /, %, **): /\n",
            "Type second number: 8\n",
            "2.0\n",
            "Type first number: 16\n",
            "Type any of this (+, -, *, /, %, **): %\n",
            "Type second number: 5\n",
            "1\n",
            "Type first number: 2\n",
            "Type any of this (+, -, *, /, %, **): **\n",
            "Type second number: 4\n",
            "16\n"
          ]
        }
      ]
    },
    {
      "cell_type": "code",
      "source": [],
      "metadata": {
        "id": "QDdNujRQPfLw"
      },
      "execution_count": null,
      "outputs": []
    }
  ]
}