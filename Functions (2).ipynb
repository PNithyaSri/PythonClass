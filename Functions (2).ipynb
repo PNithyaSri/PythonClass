{
  "nbformat": 4,
  "nbformat_minor": 0,
  "metadata": {
    "colab": {
      "provenance": []
    },
    "kernelspec": {
      "name": "python3",
      "display_name": "Python 3"
    },
    "language_info": {
      "name": "python"
    }
  },
  "cells": [
    {
      "cell_type": "code",
      "execution_count": null,
      "metadata": {
        "id": "Cbt9dckt-lrl"
      },
      "outputs": [],
      "source": [
        "def toLower():\n",
        "    s = input(\"Enter a string \")\n",
        "    n = \"\"\n",
        "    for y in s:\n",
        "        if ord(y) in range(65, 91):\n",
        "            diff = ord(y) - 65\n",
        "            y = chr(97+diff)\n",
        "            n += y\n",
        "        else:\n",
        "            n = n + y\n",
        "    print(n)"
      ]
    },
    {
      "cell_type": "code",
      "source": [
        "toLower()"
      ],
      "metadata": {
        "colab": {
          "base_uri": "https://localhost:8080/"
        },
        "id": "Aojdi6HB-v1G",
        "outputId": "8423d00a-da2a-4f40-a5bb-eb5bf997a4de"
      },
      "execution_count": null,
      "outputs": [
        {
          "output_type": "stream",
          "name": "stdout",
          "text": [
            "Enter a string hkUHOIKKN87@#\n",
            "hkuhoikkn87@#\n"
          ]
        }
      ]
    },
    {
      "cell_type": "code",
      "source": [
        "def toUpper():\n",
        "    s = input(\"Enter a string \")\n",
        "    n = \"\"\n",
        "    for y in s:\n",
        "        if ord(y) in range(97, 123):\n",
        "            diff = ord(y) - 97\n",
        "            y = chr(65+diff)\n",
        "            n += y\n",
        "        else:\n",
        "            n = n + y\n",
        "    print(n)"
      ],
      "metadata": {
        "id": "FP0lSbmW-1iD"
      },
      "execution_count": null,
      "outputs": []
    },
    {
      "cell_type": "code",
      "source": [
        "toUpper()"
      ],
      "metadata": {
        "colab": {
          "base_uri": "https://localhost:8080/"
        },
        "id": "aKn7SOyc_OYP",
        "outputId": "851009df-6633-43d9-c4ad-84dfaafda5ef"
      },
      "execution_count": null,
      "outputs": [
        {
          "output_type": "stream",
          "name": "stdout",
          "text": [
            "Enter a string KGkjh76@##$\n",
            "KGKJH76@##$\n"
          ]
        }
      ]
    },
    {
      "cell_type": "code",
      "source": [
        "def toCapitalize():\n",
        "    s = input(\"Enter a string \")\n",
        "    n = \"\"\n",
        "    if ord(s[0]) in range(97, 123):\n",
        "            diff = ord(s[0]) - 97\n",
        "            n += chr(65+diff)\n",
        "    else:\n",
        "            n += s[0]\n",
        "    for i in range(1,len(s)):\n",
        "        if ord(s[i]) in range(65, 91):\n",
        "            diff = ord(s[i]) - 65\n",
        "            n += chr(97+diff)\n",
        "\n",
        "        else:\n",
        "            n = n + s[i]\n",
        "    print(n)\n"
      ],
      "metadata": {
        "id": "kkIGsEf0_R6Y"
      },
      "execution_count": null,
      "outputs": []
    },
    {
      "cell_type": "code",
      "source": [
        "toCapitalize()"
      ],
      "metadata": {
        "colab": {
          "base_uri": "https://localhost:8080/"
        },
        "id": "kpmn9ecU_cW4",
        "outputId": "4dff8af1-c216-466a-e805-22c9a5a50d2b"
      },
      "execution_count": null,
      "outputs": [
        {
          "output_type": "stream",
          "name": "stdout",
          "text": [
            "Enter a string kjnBKJBHKJ786#@$\n",
            "Kjnbkjbhkj786#@$\n"
          ]
        }
      ]
    },
    {
      "cell_type": "code",
      "source": [
        "def zeroDim():\n",
        "  n = int(input(\"Enter a number \"))\n",
        "  return n\n",
        "zeroDim()"
      ],
      "metadata": {
        "colab": {
          "base_uri": "https://localhost:8080/"
        },
        "id": "zj74r22-_dSv",
        "outputId": "9e3f7d66-0b1b-4a1b-e998-b2f356721939"
      },
      "execution_count": null,
      "outputs": [
        {
          "name": "stdout",
          "output_type": "stream",
          "text": [
            "Enter a number 923\n"
          ]
        },
        {
          "output_type": "execute_result",
          "data": {
            "text/plain": [
              "923"
            ]
          },
          "metadata": {},
          "execution_count": 10
        }
      ]
    },
    {
      "cell_type": "code",
      "source": [
        "def oneDim():\n",
        "  lst = []\n",
        "  for i in range(0,5):\n",
        "    lst.append(int(input(\"Enter number \")))\n",
        "  return lst\n",
        "oneDim()"
      ],
      "metadata": {
        "colab": {
          "base_uri": "https://localhost:8080/"
        },
        "id": "G_tpGo4jBosj",
        "outputId": "2da97989-ceff-4c6e-e097-94a12acf95fb"
      },
      "execution_count": null,
      "outputs": [
        {
          "name": "stdout",
          "output_type": "stream",
          "text": [
            "Enter number 12\n",
            "Enter number 13\n",
            "Enter number 14\n",
            "Enter number 15\n",
            "Enter number 16\n"
          ]
        },
        {
          "output_type": "execute_result",
          "data": {
            "text/plain": [
              "[12, 13, 14, 15, 16]"
            ]
          },
          "metadata": {},
          "execution_count": 14
        }
      ]
    },
    {
      "cell_type": "code",
      "source": [
        "def twoDim():\n",
        "  for i in range(0,5):\n",
        "    for j in range(0,5):\n",
        "      if j<i:\n",
        "        print([j,i,j])\n",
        "twoDim()"
      ],
      "metadata": {
        "colab": {
          "base_uri": "https://localhost:8080/"
        },
        "id": "T7oS6BkcCFH7",
        "outputId": "3d6a089c-2c65-482c-d64e-f984b769d4a5"
      },
      "execution_count": 1,
      "outputs": [
        {
          "output_type": "stream",
          "name": "stdout",
          "text": [
            "[0, 1, 0]\n",
            "[0, 2, 0]\n",
            "[1, 2, 1]\n",
            "[0, 3, 0]\n",
            "[1, 3, 1]\n",
            "[2, 3, 2]\n",
            "[0, 4, 0]\n",
            "[1, 4, 1]\n",
            "[2, 4, 2]\n",
            "[3, 4, 3]\n"
          ]
        }
      ]
    },
    {
      "cell_type": "code",
      "source": [],
      "metadata": {
        "id": "o_qCsLZmC4Jm"
      },
      "execution_count": null,
      "outputs": []
    }
  ]
}